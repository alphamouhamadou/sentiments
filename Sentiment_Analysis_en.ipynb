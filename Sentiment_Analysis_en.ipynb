{
  "cells": [
    {
      "cell_type": "markdown",
      "metadata": {
        "id": "czmb2CAfwZkB"
      },
      "source": [
        "### <font color='#00d2d3'> Importer les packages"
      ]
    },
    {
      "cell_type": "code",
      "execution_count": 57,
      "metadata": {
        "colab": {
          "base_uri": "https://localhost:8080/"
        },
        "id": "LU_5yINqMjZ0",
        "outputId": "abdb477e-638a-41a1-e8f7-b668bd912654"
      },
      "outputs": [
        {
          "name": "stderr",
          "output_type": "stream",
          "text": [
            "[nltk_data] Downloading package stopwords to\n",
            "[nltk_data]     C:\\Users\\HP\\AppData\\Roaming\\nltk_data...\n",
            "[nltk_data]   Package stopwords is already up-to-date!\n",
            "[nltk_data] Downloading package wordnet to\n",
            "[nltk_data]     C:\\Users\\HP\\AppData\\Roaming\\nltk_data...\n",
            "[nltk_data]   Package wordnet is already up-to-date!\n"
          ]
        }
      ],
      "source": [
        "# Importer les packages\n",
        "import numpy as np\n",
        "import pandas as pd\n",
        "import matplotlib.pyplot as plt\n",
        "import re\n",
        "import nltk\n",
        "nltk.download('stopwords') # Télécharger le package stopwords\n",
        "nltk.download('wordnet')\n",
        "from nltk.corpus import stopwords # Importer le package stopwords"
      ]
    },
    {
      "cell_type": "markdown",
      "metadata": {
        "id": "KlHMJw7NQw5k"
      },
      "source": [
        "### <font color='#00d2d3'> Importer et lire les données"
      ]
    },
    {
      "cell_type": "code",
      "execution_count": 58,
      "metadata": {
        "colab": {
          "base_uri": "https://localhost:8080/",
          "height": 206
        },
        "id": "QYwI5fuQMojZ",
        "outputId": "a53ccb88-d8f8-4916-deb9-2bc08ceee2d1"
      },
      "outputs": [
        {
          "data": {
            "text/html": [
              "<div>\n",
              "<style scoped>\n",
              "    .dataframe tbody tr th:only-of-type {\n",
              "        vertical-align: middle;\n",
              "    }\n",
              "\n",
              "    .dataframe tbody tr th {\n",
              "        vertical-align: top;\n",
              "    }\n",
              "\n",
              "    .dataframe thead th {\n",
              "        text-align: right;\n",
              "    }\n",
              "</style>\n",
              "<table border=\"1\" class=\"dataframe\">\n",
              "  <thead>\n",
              "    <tr style=\"text-align: right;\">\n",
              "      <th></th>\n",
              "      <th>label</th>\n",
              "      <th>tweet</th>\n",
              "    </tr>\n",
              "  </thead>\n",
              "  <tbody>\n",
              "    <tr>\n",
              "      <th>0</th>\n",
              "      <td>1</td>\n",
              "      <td>@user homegrown rightie white americans are 10...</td>\n",
              "    </tr>\n",
              "    <tr>\n",
              "      <th>1</th>\n",
              "      <td>1</td>\n",
              "      <td>@user @user  is this a new one? either way, #m...</td>\n",
              "    </tr>\n",
              "    <tr>\n",
              "      <th>2</th>\n",
              "      <td>0</td>\n",
              "      <td>i am thankful for pillows. #thankful #positive...</td>\n",
              "    </tr>\n",
              "    <tr>\n",
              "      <th>3</th>\n",
              "      <td>0</td>\n",
              "      <td>it's unfounate today that aids is under contro...</td>\n",
              "    </tr>\n",
              "    <tr>\n",
              "      <th>4</th>\n",
              "      <td>0</td>\n",
              "      <td>i am super. #i_am #positive #affirmation</td>\n",
              "    </tr>\n",
              "  </tbody>\n",
              "</table>\n",
              "</div>"
            ],
            "text/plain": [
              "   label                                              tweet\n",
              "0      1  @user homegrown rightie white americans are 10...\n",
              "1      1  @user @user  is this a new one? either way, #m...\n",
              "2      0  i am thankful for pillows. #thankful #positive...\n",
              "3      0  it's unfounate today that aids is under contro...\n",
              "4      0      i am super. #i_am #positive #affirmation     "
            ]
          },
          "execution_count": 58,
          "metadata": {},
          "output_type": "execute_result"
        }
      ],
      "source": [
        "# Importer les données\n",
        "df1 = pd.read_csv('C:/Users/hp/Documents/nlp/tweet_data.csv')\n",
        "df2 = pd.read_csv('C:/Users/hp/Documents/nlp/Tweets_data.csv')\n",
        "# Afficher les données\n",
        "df1.head()\n"
      ]
    },
    {
      "cell_type": "code",
      "execution_count": 59,
      "metadata": {
        "colab": {
          "base_uri": "https://localhost:8080/",
          "height": 206
        },
        "id": "GyQ7xyDafrUS",
        "outputId": "112cb5db-d29a-48c5-94fa-0762aa280aef"
      },
      "outputs": [
        {
          "data": {
            "text/html": [
              "<div>\n",
              "<style scoped>\n",
              "    .dataframe tbody tr th:only-of-type {\n",
              "        vertical-align: middle;\n",
              "    }\n",
              "\n",
              "    .dataframe tbody tr th {\n",
              "        vertical-align: top;\n",
              "    }\n",
              "\n",
              "    .dataframe thead th {\n",
              "        text-align: right;\n",
              "    }\n",
              "</style>\n",
              "<table border=\"1\" class=\"dataframe\">\n",
              "  <thead>\n",
              "    <tr style=\"text-align: right;\">\n",
              "      <th></th>\n",
              "      <th>coachella_sentiment</th>\n",
              "      <th>text</th>\n",
              "    </tr>\n",
              "  </thead>\n",
              "  <tbody>\n",
              "    <tr>\n",
              "      <th>0</th>\n",
              "      <td>positive</td>\n",
              "      <td>#Coachella2015 tickets selling out in less tha...</td>\n",
              "    </tr>\n",
              "    <tr>\n",
              "      <th>1</th>\n",
              "      <td>positive</td>\n",
              "      <td>RT @sudsybuddy: WAIT THIS IS ABSOLUTE FIRE _ÙÓ...</td>\n",
              "    </tr>\n",
              "    <tr>\n",
              "      <th>2</th>\n",
              "      <td>positive</td>\n",
              "      <td>#Coachella2015 #VIP passes secured! See you th...</td>\n",
              "    </tr>\n",
              "    <tr>\n",
              "      <th>3</th>\n",
              "      <td>positive</td>\n",
              "      <td>PhillyÛªs @warondrugsjams will play #Coachell...</td>\n",
              "    </tr>\n",
              "    <tr>\n",
              "      <th>4</th>\n",
              "      <td>positive</td>\n",
              "      <td>If briana and her mom out to #Coachella2015  i...</td>\n",
              "    </tr>\n",
              "  </tbody>\n",
              "</table>\n",
              "</div>"
            ],
            "text/plain": [
              "  coachella_sentiment                                               text\n",
              "0            positive  #Coachella2015 tickets selling out in less tha...\n",
              "1            positive  RT @sudsybuddy: WAIT THIS IS ABSOLUTE FIRE _ÙÓ...\n",
              "2            positive  #Coachella2015 #VIP passes secured! See you th...\n",
              "3            positive  PhillyÛªs @warondrugsjams will play #Coachell...\n",
              "4            positive  If briana and her mom out to #Coachella2015  i..."
            ]
          },
          "execution_count": 59,
          "metadata": {},
          "output_type": "execute_result"
        }
      ],
      "source": [
        "df2.head()"
      ]
    },
    {
      "cell_type": "markdown",
      "metadata": {
        "id": "0AqkjpUZQw5m"
      },
      "source": [
        "- 1 : Negative\n",
        "- 0 : Positive"
      ]
    },
    {
      "cell_type": "code",
      "execution_count": 60,
      "metadata": {
        "colab": {
          "base_uri": "https://localhost:8080/"
        },
        "id": "v5DYAQbZQw5n",
        "outputId": "2e481ce6-f7ba-489a-a536-a2f0ebdd2209"
      },
      "outputs": [
        {
          "name": "stdout",
          "output_type": "stream",
          "text": [
            "(4484, 2)\n",
            "(3846, 2)\n"
          ]
        }
      ],
      "source": [
        "# Dimension des données\n",
        "print(df1.shape)\n",
        "print(df2.shape)"
      ]
    },
    {
      "cell_type": "code",
      "execution_count": 61,
      "metadata": {},
      "outputs": [
        {
          "data": {
            "text/plain": [
              "label    0\n",
              "tweet    0\n",
              "dtype: int64"
            ]
          },
          "execution_count": 61,
          "metadata": {},
          "output_type": "execute_result"
        }
      ],
      "source": [
        "# verifier les valeurs manquantes\n",
        "df1.isnull().sum()"
      ]
    },
    {
      "cell_type": "code",
      "execution_count": 62,
      "metadata": {},
      "outputs": [
        {
          "data": {
            "text/plain": [
              "coachella_sentiment    0\n",
              "text                   0\n",
              "dtype: int64"
            ]
          },
          "execution_count": 62,
          "metadata": {},
          "output_type": "execute_result"
        }
      ],
      "source": [
        "# verifier les valeurs manquantes\n",
        "df2.isnull().sum()"
      ]
    },
    {
      "cell_type": "markdown",
      "metadata": {
        "id": "XhtOBqkqQw5o"
      },
      "source": [
        "### <font color='#00d2d3'> Pré-traitement des données"
      ]
    },
    {
      "cell_type": "code",
      "execution_count": 63,
      "metadata": {
        "colab": {
          "base_uri": "https://localhost:8080/"
        },
        "id": "jtFrSBXPQw5p",
        "outputId": "cfea5dff-c58c-43b4-90eb-0ac3842f1657"
      },
      "outputs": [
        {
          "data": {
            "text/plain": [
              "coachella_sentiment\n",
              "positive     2283\n",
              "neutral       928\n",
              "negative      553\n",
              "cant tell      82\n",
              "Name: count, dtype: int64"
            ]
          },
          "execution_count": 63,
          "metadata": {},
          "output_type": "execute_result"
        }
      ],
      "source": [
        "# Nombre d'observations dans chaque classe\n",
        "df2.coachella_sentiment.value_counts()"
      ]
    },
    {
      "cell_type": "code",
      "execution_count": 64,
      "metadata": {},
      "outputs": [],
      "source": [
        "# Recuperation des lignes positive et negative \n",
        "df2 = df2[df2['coachella_sentiment'].isin(['positive', 'negative'])]"
      ]
    },
    {
      "cell_type": "code",
      "execution_count": 65,
      "metadata": {},
      "outputs": [
        {
          "data": {
            "text/plain": [
              "coachella_sentiment\n",
              "positive    2283\n",
              "negative     553\n",
              "Name: count, dtype: int64"
            ]
          },
          "execution_count": 65,
          "metadata": {},
          "output_type": "execute_result"
        }
      ],
      "source": [
        "# Nombre d'observations dans chaque classe apres recuperation\n",
        "df2.coachella_sentiment.value_counts()"
      ]
    },
    {
      "cell_type": "code",
      "execution_count": 66,
      "metadata": {},
      "outputs": [
        {
          "data": {
            "text/html": [
              "<div>\n",
              "<style scoped>\n",
              "    .dataframe tbody tr th:only-of-type {\n",
              "        vertical-align: middle;\n",
              "    }\n",
              "\n",
              "    .dataframe tbody tr th {\n",
              "        vertical-align: top;\n",
              "    }\n",
              "\n",
              "    .dataframe thead th {\n",
              "        text-align: right;\n",
              "    }\n",
              "</style>\n",
              "<table border=\"1\" class=\"dataframe\">\n",
              "  <thead>\n",
              "    <tr style=\"text-align: right;\">\n",
              "      <th></th>\n",
              "      <th>label</th>\n",
              "      <th>tweet</th>\n",
              "    </tr>\n",
              "  </thead>\n",
              "  <tbody>\n",
              "    <tr>\n",
              "      <th>0</th>\n",
              "      <td>positive</td>\n",
              "      <td>#Coachella2015 tickets selling out in less tha...</td>\n",
              "    </tr>\n",
              "    <tr>\n",
              "      <th>1</th>\n",
              "      <td>positive</td>\n",
              "      <td>RT @sudsybuddy: WAIT THIS IS ABSOLUTE FIRE _ÙÓ...</td>\n",
              "    </tr>\n",
              "    <tr>\n",
              "      <th>2</th>\n",
              "      <td>positive</td>\n",
              "      <td>#Coachella2015 #VIP passes secured! See you th...</td>\n",
              "    </tr>\n",
              "    <tr>\n",
              "      <th>3</th>\n",
              "      <td>positive</td>\n",
              "      <td>PhillyÛªs @warondrugsjams will play #Coachell...</td>\n",
              "    </tr>\n",
              "    <tr>\n",
              "      <th>4</th>\n",
              "      <td>positive</td>\n",
              "      <td>If briana and her mom out to #Coachella2015  i...</td>\n",
              "    </tr>\n",
              "    <tr>\n",
              "      <th>...</th>\n",
              "      <td>...</td>\n",
              "      <td>...</td>\n",
              "    </tr>\n",
              "    <tr>\n",
              "      <th>3759</th>\n",
              "      <td>negative</td>\n",
              "      <td>.@stromae at #coachella2015 is literally the o...</td>\n",
              "    </tr>\n",
              "    <tr>\n",
              "      <th>3760</th>\n",
              "      <td>negative</td>\n",
              "      <td>Anyone else not completely sold? #Coachella201...</td>\n",
              "    </tr>\n",
              "    <tr>\n",
              "      <th>3761</th>\n",
              "      <td>negative</td>\n",
              "      <td>Recycled as fuck #Coachella2015 #Coachella htt...</td>\n",
              "    </tr>\n",
              "    <tr>\n",
              "      <th>3762</th>\n",
              "      <td>negative</td>\n",
              "      <td>Line up out already or is it fake like every o...</td>\n",
              "    </tr>\n",
              "    <tr>\n",
              "      <th>3763</th>\n",
              "      <td>negative</td>\n",
              "      <td>#Coachella2015 is a fersure thing Ï_</td>\n",
              "    </tr>\n",
              "  </tbody>\n",
              "</table>\n",
              "<p>2836 rows × 2 columns</p>\n",
              "</div>"
            ],
            "text/plain": [
              "         label                                              tweet\n",
              "0     positive  #Coachella2015 tickets selling out in less tha...\n",
              "1     positive  RT @sudsybuddy: WAIT THIS IS ABSOLUTE FIRE _ÙÓ...\n",
              "2     positive  #Coachella2015 #VIP passes secured! See you th...\n",
              "3     positive  PhillyÛªs @warondrugsjams will play #Coachell...\n",
              "4     positive  If briana and her mom out to #Coachella2015  i...\n",
              "...        ...                                                ...\n",
              "3759  negative  .@stromae at #coachella2015 is literally the o...\n",
              "3760  negative  Anyone else not completely sold? #Coachella201...\n",
              "3761  negative  Recycled as fuck #Coachella2015 #Coachella htt...\n",
              "3762  negative  Line up out already or is it fake like every o...\n",
              "3763  negative              #Coachella2015 is a fersure thing Ï_\n",
              "\n",
              "[2836 rows x 2 columns]"
            ]
          },
          "execution_count": 66,
          "metadata": {},
          "output_type": "execute_result"
        }
      ],
      "source": [
        "# Renommer les colonnes pour les rendre cohérentes\n",
        "df2 = df2.rename(columns={\"coachella_sentiment\": \"label\", \"text\": \"tweet\"})\n",
        "df2.head(10000)"
      ]
    },
    {
      "cell_type": "code",
      "execution_count": 67,
      "metadata": {},
      "outputs": [
        {
          "data": {
            "text/html": [
              "<div>\n",
              "<style scoped>\n",
              "    .dataframe tbody tr th:only-of-type {\n",
              "        vertical-align: middle;\n",
              "    }\n",
              "\n",
              "    .dataframe tbody tr th {\n",
              "        vertical-align: top;\n",
              "    }\n",
              "\n",
              "    .dataframe thead th {\n",
              "        text-align: right;\n",
              "    }\n",
              "</style>\n",
              "<table border=\"1\" class=\"dataframe\">\n",
              "  <thead>\n",
              "    <tr style=\"text-align: right;\">\n",
              "      <th></th>\n",
              "      <th>label</th>\n",
              "      <th>tweet</th>\n",
              "    </tr>\n",
              "  </thead>\n",
              "  <tbody>\n",
              "    <tr>\n",
              "      <th>0</th>\n",
              "      <td>0</td>\n",
              "      <td>#Coachella2015 tickets selling out in less tha...</td>\n",
              "    </tr>\n",
              "    <tr>\n",
              "      <th>1</th>\n",
              "      <td>0</td>\n",
              "      <td>RT @sudsybuddy: WAIT THIS IS ABSOLUTE FIRE _ÙÓ...</td>\n",
              "    </tr>\n",
              "    <tr>\n",
              "      <th>2</th>\n",
              "      <td>0</td>\n",
              "      <td>#Coachella2015 #VIP passes secured! See you th...</td>\n",
              "    </tr>\n",
              "    <tr>\n",
              "      <th>3</th>\n",
              "      <td>0</td>\n",
              "      <td>PhillyÛªs @warondrugsjams will play #Coachell...</td>\n",
              "    </tr>\n",
              "    <tr>\n",
              "      <th>4</th>\n",
              "      <td>0</td>\n",
              "      <td>If briana and her mom out to #Coachella2015  i...</td>\n",
              "    </tr>\n",
              "    <tr>\n",
              "      <th>...</th>\n",
              "      <td>...</td>\n",
              "      <td>...</td>\n",
              "    </tr>\n",
              "    <tr>\n",
              "      <th>3759</th>\n",
              "      <td>1</td>\n",
              "      <td>.@stromae at #coachella2015 is literally the o...</td>\n",
              "    </tr>\n",
              "    <tr>\n",
              "      <th>3760</th>\n",
              "      <td>1</td>\n",
              "      <td>Anyone else not completely sold? #Coachella201...</td>\n",
              "    </tr>\n",
              "    <tr>\n",
              "      <th>3761</th>\n",
              "      <td>1</td>\n",
              "      <td>Recycled as fuck #Coachella2015 #Coachella htt...</td>\n",
              "    </tr>\n",
              "    <tr>\n",
              "      <th>3762</th>\n",
              "      <td>1</td>\n",
              "      <td>Line up out already or is it fake like every o...</td>\n",
              "    </tr>\n",
              "    <tr>\n",
              "      <th>3763</th>\n",
              "      <td>1</td>\n",
              "      <td>#Coachella2015 is a fersure thing Ï_</td>\n",
              "    </tr>\n",
              "  </tbody>\n",
              "</table>\n",
              "<p>2836 rows × 2 columns</p>\n",
              "</div>"
            ],
            "text/plain": [
              "      label                                              tweet\n",
              "0         0  #Coachella2015 tickets selling out in less tha...\n",
              "1         0  RT @sudsybuddy: WAIT THIS IS ABSOLUTE FIRE _ÙÓ...\n",
              "2         0  #Coachella2015 #VIP passes secured! See you th...\n",
              "3         0  PhillyÛªs @warondrugsjams will play #Coachell...\n",
              "4         0  If briana and her mom out to #Coachella2015  i...\n",
              "...     ...                                                ...\n",
              "3759      1  .@stromae at #coachella2015 is literally the o...\n",
              "3760      1  Anyone else not completely sold? #Coachella201...\n",
              "3761      1  Recycled as fuck #Coachella2015 #Coachella htt...\n",
              "3762      1  Line up out already or is it fake like every o...\n",
              "3763      1              #Coachella2015 is a fersure thing Ï_\n",
              "\n",
              "[2836 rows x 2 columns]"
            ]
          },
          "execution_count": 67,
          "metadata": {},
          "output_type": "execute_result"
        }
      ],
      "source": [
        "# Modifier la colonne \"label\" pour rendre les labels cohérents\n",
        "df2[\"label\"] = df2[\"label\"].replace({\"positive\": 0, \"negative\": 1})\n",
        "df2.head(100000)"
      ]
    },
    {
      "cell_type": "code",
      "execution_count": 68,
      "metadata": {},
      "outputs": [],
      "source": [
        "# Concaténer les deux dataframes\n",
        "df_en_tweet = pd.concat([df1, df2], ignore_index=True)"
      ]
    },
    {
      "cell_type": "code",
      "execution_count": 69,
      "metadata": {},
      "outputs": [
        {
          "data": {
            "text/html": [
              "<div>\n",
              "<style scoped>\n",
              "    .dataframe tbody tr th:only-of-type {\n",
              "        vertical-align: middle;\n",
              "    }\n",
              "\n",
              "    .dataframe tbody tr th {\n",
              "        vertical-align: top;\n",
              "    }\n",
              "\n",
              "    .dataframe thead th {\n",
              "        text-align: right;\n",
              "    }\n",
              "</style>\n",
              "<table border=\"1\" class=\"dataframe\">\n",
              "  <thead>\n",
              "    <tr style=\"text-align: right;\">\n",
              "      <th></th>\n",
              "      <th>label</th>\n",
              "      <th>tweet</th>\n",
              "    </tr>\n",
              "  </thead>\n",
              "  <tbody>\n",
              "    <tr>\n",
              "      <th>0</th>\n",
              "      <td>1</td>\n",
              "      <td>@user homegrown rightie white americans are 10...</td>\n",
              "    </tr>\n",
              "    <tr>\n",
              "      <th>1</th>\n",
              "      <td>1</td>\n",
              "      <td>@user @user  is this a new one? either way, #m...</td>\n",
              "    </tr>\n",
              "    <tr>\n",
              "      <th>2</th>\n",
              "      <td>0</td>\n",
              "      <td>i am thankful for pillows. #thankful #positive...</td>\n",
              "    </tr>\n",
              "    <tr>\n",
              "      <th>3</th>\n",
              "      <td>0</td>\n",
              "      <td>it's unfounate today that aids is under contro...</td>\n",
              "    </tr>\n",
              "    <tr>\n",
              "      <th>4</th>\n",
              "      <td>0</td>\n",
              "      <td>i am super. #i_am #positive #affirmation</td>\n",
              "    </tr>\n",
              "    <tr>\n",
              "      <th>...</th>\n",
              "      <td>...</td>\n",
              "      <td>...</td>\n",
              "    </tr>\n",
              "    <tr>\n",
              "      <th>7315</th>\n",
              "      <td>1</td>\n",
              "      <td>.@stromae at #coachella2015 is literally the o...</td>\n",
              "    </tr>\n",
              "    <tr>\n",
              "      <th>7316</th>\n",
              "      <td>1</td>\n",
              "      <td>Anyone else not completely sold? #Coachella201...</td>\n",
              "    </tr>\n",
              "    <tr>\n",
              "      <th>7317</th>\n",
              "      <td>1</td>\n",
              "      <td>Recycled as fuck #Coachella2015 #Coachella htt...</td>\n",
              "    </tr>\n",
              "    <tr>\n",
              "      <th>7318</th>\n",
              "      <td>1</td>\n",
              "      <td>Line up out already or is it fake like every o...</td>\n",
              "    </tr>\n",
              "    <tr>\n",
              "      <th>7319</th>\n",
              "      <td>1</td>\n",
              "      <td>#Coachella2015 is a fersure thing Ï_</td>\n",
              "    </tr>\n",
              "  </tbody>\n",
              "</table>\n",
              "<p>7320 rows × 2 columns</p>\n",
              "</div>"
            ],
            "text/plain": [
              "      label                                              tweet\n",
              "0         1  @user homegrown rightie white americans are 10...\n",
              "1         1  @user @user  is this a new one? either way, #m...\n",
              "2         0  i am thankful for pillows. #thankful #positive...\n",
              "3         0  it's unfounate today that aids is under contro...\n",
              "4         0      i am super. #i_am #positive #affirmation     \n",
              "...     ...                                                ...\n",
              "7315      1  .@stromae at #coachella2015 is literally the o...\n",
              "7316      1  Anyone else not completely sold? #Coachella201...\n",
              "7317      1  Recycled as fuck #Coachella2015 #Coachella htt...\n",
              "7318      1  Line up out already or is it fake like every o...\n",
              "7319      1              #Coachella2015 is a fersure thing Ï_\n",
              "\n",
              "[7320 rows x 2 columns]"
            ]
          },
          "execution_count": 69,
          "metadata": {},
          "output_type": "execute_result"
        }
      ],
      "source": [
        "# Affiche le dataframe finale\n",
        "df_en_tweet"
      ]
    },
    {
      "cell_type": "code",
      "execution_count": 70,
      "metadata": {
        "colab": {
          "base_uri": "https://localhost:8080/",
          "height": 472
        },
        "id": "Or_O3O2LQw5q",
        "outputId": "6eeab3b1-5493-4966-9851-71a4a184ad7d"
      },
      "outputs": [
        {
          "data": {
            "image/png": "[encoded data removed]",
            "text/plain": [
              "<Figure size 640x480 with 1 Axes>"
            ]
          },
          "metadata": {},
          "output_type": "display_data"
        }
      ],
      "source": [
        "# Calculer le nombre d'observations pour chaque classe de sentiment\n",
        "sentiment_counts = df_en_tweet['label'].value_counts()\n",
        "\n",
        "# Créer un diagramme à barres\n",
        "plt.bar(sentiment_counts.index, sentiment_counts.values)\n",
        "\n",
        "# Ajouter des étiquettes et afficher le graphique\n",
        "plt.xlabel('Sentiment')\n",
        "plt.ylabel('Nombre d\\'observations')\n",
        "plt.title('Nombre d\\'observations dans chaque classe de sentiment à Coachella')\n",
        "plt.show()\n"
      ]
    },
    {
      "cell_type": "markdown",
      "metadata": {
        "id": "_41c8uL5Qw5r"
      },
      "source": [
        "#### <font color='#00d2d3'> Pré-traitement des données textuelles"
      ]
    },
    {
      "cell_type": "code",
      "execution_count": 71,
      "metadata": {
        "colab": {
          "base_uri": "https://localhost:8080/",
          "height": 36
        },
        "id": "dwMVggXAQw5u",
        "outputId": "4748ddbe-678e-43cc-e89c-8bb22609d557"
      },
      "outputs": [
        {
          "data": {
            "text/plain": [
              "'Recycled as fuck #Coachella2015 #Coachella http://t.co/OvQ25JHrBy'"
            ]
          },
          "execution_count": 71,
          "metadata": {},
          "output_type": "execute_result"
        }
      ],
      "source": [
        "# Afficher une ligne\n",
        "df_en_tweet['tweet'][7317]"
      ]
    },
    {
      "cell_type": "code",
      "execution_count": 72,
      "metadata": {
        "colab": {
          "base_uri": "https://localhost:8080/",
          "height": 36
        },
        "id": "LC5qNlC3vA7M",
        "outputId": "3bc99e3e-40df-4328-81d4-619309e0b1cf"
      },
      "outputs": [
        {
          "data": {
            "text/plain": [
              "'i am thankful for pillows. #thankful #positive     '"
            ]
          },
          "execution_count": 72,
          "metadata": {},
          "output_type": "execute_result"
        }
      ],
      "source": [
        "# Afficher la deuxième ligne de la colonne text\n",
        "df_en_tweet['tweet'][2]"
      ]
    },
    {
      "cell_type": "markdown",
      "metadata": {
        "id": "8TbCKi_C2DVr"
      },
      "source": [
        "###### <font color='#1dd1a1'> Commencer le nettoyage des tweets\n"
      ]
    },
    {
      "cell_type": "code",
      "execution_count": 73,
      "metadata": {
        "id": "CJDmurEzQw5y"
      },
      "outputs": [],
      "source": [
        "# Fonction supprimant les liens\n",
        "def remove_links(text):\n",
        "    text = re.sub(r'http:?//\\S+|https:?//\\S+', '', text)\n",
        "    return text\n"
      ]
    },
    {
      "cell_type": "code",
      "execution_count": 74,
      "metadata": {
        "id": "Vm1912YqQw5y"
      },
      "outputs": [],
      "source": [
        "# Fonction supprimant les @username\n",
        "def remove_users(text):\n",
        "    text = re.sub(r'@[\\w\\-\\.]+', '', text)  #re.sub(r'@[a-zA-Z0-9-._]+', '', text)\n",
        "    return text\n"
      ]
    },
    {
      "cell_type": "code",
      "execution_count": 75,
      "metadata": {
        "id": "06fJkgu2Qw5z"
      },
      "outputs": [],
      "source": [
        "# Supprimer les adresses emails\n",
        "def email_address(text):\n",
        "    text = re.sub(r'[\\w\\-\\.]+@[\\w\\-\\.]+', '', text)\n",
        "    return text"
      ]
    },
    {
      "cell_type": "code",
      "execution_count": 76,
      "metadata": {
        "colab": {
          "base_uri": "https://localhost:8080/"
        },
        "id": "yhDsZZaaRVnv",
        "outputId": "85333df3-c571-43cb-a756-763eb9bab145"
      },
      "outputs": [
        {
          "name": "stdout",
          "output_type": "stream",
          "text": [
            "Requirement already satisfied: contractions in c:\\python311\\lib\\site-packages (0.1.73)\n",
            "Requirement already satisfied: textsearch>=0.0.21 in c:\\python311\\lib\\site-packages (from contractions) (0.0.24)\n",
            "Requirement already satisfied: anyascii in c:\\python311\\lib\\site-packages (from textsearch>=0.0.21->contractions) (0.3.2)\n",
            "Requirement already satisfied: pyahocorasick in c:\\python311\\lib\\site-packages (from textsearch>=0.0.21->contractions) (2.0.0)\n"
          ]
        },
        {
          "name": "stderr",
          "output_type": "stream",
          "text": [
            "DEPRECATION: Loading egg at c:\\python311\\lib\\site-packages\\vboxapi-1.0-py3.11.egg is deprecated. pip 23.3 will enforce this behaviour change. A possible replacement is to use pip for package installation..\n",
            "\n",
            "[notice] A new release of pip is available: 23.2.1 -> 23.3.1\n",
            "[notice] To update, run: python.exe -m pip install --upgrade pip\n"
          ]
        }
      ],
      "source": [
        "! pip install contractions"
      ]
    },
    {
      "cell_type": "code",
      "execution_count": 77,
      "metadata": {
        "id": "dr4lFuBHQw50"
      },
      "outputs": [],
      "source": [
        "import contractions\n",
        "# Fonction étendant les contractions\n",
        "def contraction(text):\n",
        "    expanded_all = []\n",
        "    for word in text.split():\n",
        "        expanded_all.append(contractions.fix(word)) # utiliser la fonction fix de contractions\n",
        "\n",
        "    expand = ' '.join(expanded_all)\n",
        "    return expand"
      ]
    },
    {
      "cell_type": "code",
      "execution_count": 78,
      "metadata": {
        "id": "p8oVUvyDQw51"
      },
      "outputs": [],
      "source": [
        "# Supprimer html caractères\n",
        "def clean_html(text):\n",
        "  text = re.sub(r'&\\w+','', text)\n",
        "  return text"
      ]
    },
    {
      "cell_type": "code",
      "execution_count": 79,
      "metadata": {
        "id": "nLNuYb7KQw52"
      },
      "outputs": [],
      "source": [
        "# Remplacer tout ce qui n'est chaines de caractères alphabétiques et espace par ' '\n",
        "def alpha_b(text):\n",
        "  text = re.sub(r'[^a-zA-Z\\s]+','', text)\n",
        "  return text"
      ]
    },
    {
      "cell_type": "code",
      "execution_count": 80,
      "metadata": {
        "id": "Jqv5Z7AHQw53"
      },
      "outputs": [],
      "source": [
        "# Fonction remplaçant les espaces multiples et convertissant majuscules en minuscules\n",
        "def lower(text):\n",
        "    # Remplacer les espaces multiples par un seul espace\n",
        "    text = re.sub(r'\\s+',' ', text)\n",
        "\n",
        "    # Convertir les majuscules en minuscules\n",
        "    text = text.lower()\n",
        "    return text"
      ]
    },
    {
      "cell_type": "code",
      "execution_count": 81,
      "metadata": {
        "id": "zK7xShT2Qw53"
      },
      "outputs": [],
      "source": [
        "# Supprimer les espaces en début et fin de tweet\n",
        "def clean_space(text):\n",
        "  text = text.strip()\n",
        "  return text"
      ]
    },
    {
      "cell_type": "code",
      "execution_count": 82,
      "metadata": {
        "id": "TrTkDXL6Qw54"
      },
      "outputs": [],
      "source": [
        "# Fonction supprimant les stopwords\n",
        "def remove_stopwords(text):\n",
        "    Stopwords = stopwords.words('english')\n",
        "    text= ' '.join([word for word in text.split() if word not in Stopwords])\n",
        "    return text"
      ]
    },
    {
      "cell_type": "code",
      "execution_count": 83,
      "metadata": {
        "id": "q6nwwvbsQw55"
      },
      "outputs": [],
      "source": [
        "# Lemmatization\n",
        "from nltk.stem import WordNetLemmatizer\n",
        "lemma=WordNetLemmatizer()\n",
        "def lem_sw(text):\n",
        "    text = [lemma.lemmatize(word) for word in text.split()]\n",
        "    text = \" \".join(text)\n",
        "    return text"
      ]
    },
    {
      "cell_type": "markdown",
      "metadata": {
        "id": "q1GFBn2peCbz"
      },
      "source": [
        "###### <font color='#1dd1a1'> Appliquer les différentes fonctions sur les tweets\n",
        "\n"
      ]
    },
    {
      "cell_type": "code",
      "execution_count": 84,
      "metadata": {
        "id": "2T1IFv1zkKlx"
      },
      "outputs": [],
      "source": [
        "# Appliquer la fonction remove_users\n",
        "df_en_tweet['new_tweet'] = df_en_tweet.tweet.apply(func = remove_users)\n",
        "\n",
        "# Appliquer la fonction remove_links\n",
        "df_en_tweet['new_tweet']= df_en_tweet.new_tweet.apply(func = email_address)\n",
        "\n",
        "# Appliquer la fonction email_address\n",
        "df_en_tweet['new_tweet'] = df_en_tweet.new_tweet.apply(func = remove_links)\n",
        "\n",
        "# Appliquer la fonction remove_contraction\n",
        "df_en_tweet['new_tweet'] = df_en_tweet.new_tweet.apply(func = contraction)\n",
        "\n",
        "# Appliquer la fonction clean_html\n",
        "df_en_tweet['new_tweet'] = df_en_tweet.new_tweet.apply(func = clean_html)\n",
        "\n",
        "# Appliquer la fonction alpha_b\n",
        "df_en_tweet['new_tweet'] = df_en_tweet.new_tweet.apply(func = alpha_b)\n",
        "\n",
        "# Appliquer la fonction lower\n",
        "df_en_tweet['new_tweet'] = df_en_tweet.new_tweet.apply(func = lower)\n",
        "\n",
        "# Appliquer la fonction clean_space\n",
        "df_en_tweet['new_tweet'] = df_en_tweet.new_tweet.apply(func = clean_space)\n",
        "\n",
        "# Appliquer la fonction remove_stopwords\n",
        "df_en_tweet['new_tweet'] = df_en_tweet.new_tweet.apply(func = remove_stopwords)\n",
        "\n",
        "# Appliquer la fonction lem_sw\n",
        "df_en_tweet['new_tweet'] = df_en_tweet.new_tweet.apply(func = lem_sw)\n"
      ]
    },
    {
      "cell_type": "code",
      "execution_count": 85,
      "metadata": {
        "colab": {
          "base_uri": "https://localhost:8080/",
          "height": 206
        },
        "id": "yCAzSftbpa8u",
        "outputId": "5c172757-50b1-4b40-a34c-4980a5349f4b"
      },
      "outputs": [
        {
          "data": {
            "text/html": [
              "<div>\n",
              "<style scoped>\n",
              "    .dataframe tbody tr th:only-of-type {\n",
              "        vertical-align: middle;\n",
              "    }\n",
              "\n",
              "    .dataframe tbody tr th {\n",
              "        vertical-align: top;\n",
              "    }\n",
              "\n",
              "    .dataframe thead th {\n",
              "        text-align: right;\n",
              "    }\n",
              "</style>\n",
              "<table border=\"1\" class=\"dataframe\">\n",
              "  <thead>\n",
              "    <tr style=\"text-align: right;\">\n",
              "      <th></th>\n",
              "      <th>label</th>\n",
              "      <th>tweet</th>\n",
              "      <th>new_tweet</th>\n",
              "    </tr>\n",
              "  </thead>\n",
              "  <tbody>\n",
              "    <tr>\n",
              "      <th>0</th>\n",
              "      <td>1</td>\n",
              "      <td>@user homegrown rightie white americans are 10...</td>\n",
              "      <td>homegrown rightie white american time likely h...</td>\n",
              "    </tr>\n",
              "    <tr>\n",
              "      <th>1</th>\n",
              "      <td>1</td>\n",
              "      <td>@user @user  is this a new one? either way, #m...</td>\n",
              "      <td>new one either way men disgraced harassment ve...</td>\n",
              "    </tr>\n",
              "    <tr>\n",
              "      <th>2</th>\n",
              "      <td>0</td>\n",
              "      <td>i am thankful for pillows. #thankful #positive...</td>\n",
              "      <td>thankful pillow thankful positive</td>\n",
              "    </tr>\n",
              "    <tr>\n",
              "      <th>3</th>\n",
              "      <td>0</td>\n",
              "      <td>it's unfounate today that aids is under contro...</td>\n",
              "      <td>unfounate today aid control hate kill gay year...</td>\n",
              "    </tr>\n",
              "    <tr>\n",
              "      <th>4</th>\n",
              "      <td>0</td>\n",
              "      <td>i am super. #i_am #positive #affirmation</td>\n",
              "      <td>super iam positive affirmation</td>\n",
              "    </tr>\n",
              "    <tr>\n",
              "      <th>...</th>\n",
              "      <td>...</td>\n",
              "      <td>...</td>\n",
              "      <td>...</td>\n",
              "    </tr>\n",
              "    <tr>\n",
              "      <th>7315</th>\n",
              "      <td>1</td>\n",
              "      <td>.@stromae at #coachella2015 is literally the o...</td>\n",
              "      <td>coachella literally reason want go rest line k...</td>\n",
              "    </tr>\n",
              "    <tr>\n",
              "      <th>7316</th>\n",
              "      <td>1</td>\n",
              "      <td>Anyone else not completely sold? #Coachella201...</td>\n",
              "      <td>anyone else completely sold coachella</td>\n",
              "    </tr>\n",
              "    <tr>\n",
              "      <th>7317</th>\n",
              "      <td>1</td>\n",
              "      <td>Recycled as fuck #Coachella2015 #Coachella htt...</td>\n",
              "      <td>recycled fuck coachella coachella</td>\n",
              "    </tr>\n",
              "    <tr>\n",
              "      <th>7318</th>\n",
              "      <td>1</td>\n",
              "      <td>Line up out already or is it fake like every o...</td>\n",
              "      <td>line already fake like every year coachella</td>\n",
              "    </tr>\n",
              "    <tr>\n",
              "      <th>7319</th>\n",
              "      <td>1</td>\n",
              "      <td>#Coachella2015 is a fersure thing Ï_</td>\n",
              "      <td>coachella fersure thing</td>\n",
              "    </tr>\n",
              "  </tbody>\n",
              "</table>\n",
              "<p>7320 rows × 3 columns</p>\n",
              "</div>"
            ],
            "text/plain": [
              "      label                                              tweet  \\\n",
              "0         1  @user homegrown rightie white americans are 10...   \n",
              "1         1  @user @user  is this a new one? either way, #m...   \n",
              "2         0  i am thankful for pillows. #thankful #positive...   \n",
              "3         0  it's unfounate today that aids is under contro...   \n",
              "4         0      i am super. #i_am #positive #affirmation        \n",
              "...     ...                                                ...   \n",
              "7315      1  .@stromae at #coachella2015 is literally the o...   \n",
              "7316      1  Anyone else not completely sold? #Coachella201...   \n",
              "7317      1  Recycled as fuck #Coachella2015 #Coachella htt...   \n",
              "7318      1  Line up out already or is it fake like every o...   \n",
              "7319      1              #Coachella2015 is a fersure thing Ï_   \n",
              "\n",
              "                                              new_tweet  \n",
              "0     homegrown rightie white american time likely h...  \n",
              "1     new one either way men disgraced harassment ve...  \n",
              "2                     thankful pillow thankful positive  \n",
              "3     unfounate today aid control hate kill gay year...  \n",
              "4                        super iam positive affirmation  \n",
              "...                                                 ...  \n",
              "7315  coachella literally reason want go rest line k...  \n",
              "7316              anyone else completely sold coachella  \n",
              "7317                  recycled fuck coachella coachella  \n",
              "7318        line already fake like every year coachella  \n",
              "7319                            coachella fersure thing  \n",
              "\n",
              "[7320 rows x 3 columns]"
            ]
          },
          "execution_count": 85,
          "metadata": {},
          "output_type": "execute_result"
        }
      ],
      "source": [
        "# Afficher df\n",
        "df_en_tweet"
      ]
    },
    {
      "cell_type": "code",
      "execution_count": 86,
      "metadata": {},
      "outputs": [
        {
          "name": "stdout",
          "output_type": "stream",
          "text": [
            "label\n",
            "1    4525\n",
            "0    4525\n",
            "Name: count, dtype: int64\n"
          ]
        }
      ],
      "source": [
        "from imblearn.over_sampling import RandomOverSampler\n",
        "import pandas as pd\n",
        "\n",
        "# Diviser les données en features (X) et labels (y)\n",
        "x = df_en_tweet. drop('label', axis=1)\n",
        "# Assurez-vous d'ajuster le nom de la colonne si nécessaire\n",
        "y = df_en_tweet[ 'label']\n",
        "# Initialiser l'objet RandomOverSampler\n",
        "ros = RandomOverSampler (random_state=42)\n",
        "# Appliquer la suréchantillonnage aux données\n",
        "X_resampled, y_resampled = ros.fit_resample(x, y)\n",
        "# Créer un nouveau DataFrame avec les données équilibrées \n",
        "df_en_tweet = pd. concat ([X_resampled, y_resampled], axis=1)\n",
        "# Afficher la distribution des classes dans les données équilibrées \n",
        "print (df_en_tweet['label'].value_counts ())"
      ]
    },
    {
      "cell_type": "markdown",
      "metadata": {
        "id": "ugtv8w6SQw6F"
      },
      "source": [
        "### <font color='#00d2d3'> Vectorisation"
      ]
    },
    {
      "cell_type": "code",
      "execution_count": 87,
      "metadata": {
        "id": "ihjG2i2QQw6F"
      },
      "outputs": [],
      "source": [
        "# Importer les packages\n",
        "from keras.preprocessing.text import Tokenizer\n",
        "from keras.preprocessing.sequence import pad_sequences"
      ]
    },
    {
      "cell_type": "code",
      "execution_count": 88,
      "metadata": {
        "id": "18NzfK9EQw6G"
      },
      "outputs": [],
      "source": [
        "# Nombre de mots\n",
        "import json\n",
        "voc_size = len(set(\" \".join(df_en_tweet.new_tweet).split()))\n",
        "# Initialiser le modèle Tokenizer\n",
        "tokenizer = Tokenizer(num_words=voc_size, split=' ')\n",
        "# Entrainer les données\n",
        "tokenizer.fit_on_texts(df_en_tweet['new_tweet'].values)\n",
        "# Vectoriser\n",
        "X = tokenizer.texts_to_sequences(df_en_tweet['new_tweet'].values)\n",
        "# Padding\n",
        "X = pad_sequences(X)\n",
        "tokenizer_json = tokenizer.to_json()\n",
        "with open ('tokenizer.json', 'w', encoding='utf-8') as json_file:\n",
        "    json.dump(tokenizer_json, json_file, ensure_ascii=False)"
      ]
    },
    {
      "cell_type": "code",
      "execution_count": 89,
      "metadata": {
        "colab": {
          "base_uri": "https://localhost:8080/"
        },
        "id": "t_2EmrwsGrY2",
        "outputId": "59689d00-9430-4384-c407-b298d8055b91"
      },
      "outputs": [
        {
          "data": {
            "text/plain": [
              "array([[   0,    0,    0,    0,    0,    0,    0,    0,    0,    0,    0,\n",
              "           0, 5775, 5776,   15,  136,   26, 1141, 2309,  852,  307],\n",
              "       [   0,    0,    0,    0,    0,    0,    0,    0,    0,    0,    0,\n",
              "           0,    0,   19,   21,  456,   58,  105, 1913, 1038, 2310],\n",
              "       [   0,    0,    0,    0,    0,    0,    0,    0,    0,    0,    0,\n",
              "           0,    0,    0,    0,    0,    0,   94, 3854,   94,   96],\n",
              "       [   0,    0,    0,    0,    0,    0,    0,    0,    0,    0,    0,\n",
              "           0, 5777,   40, 3855,  853,   45,  224,  484, 5778,  253],\n",
              "       [   0,    0,    0,    0,    0,    0,    0,    0,    0,    0,    0,\n",
              "           0,    0,    0,    0,    0,    0,  254,  353,   96,  297]])"
            ]
          },
          "execution_count": 89,
          "metadata": {},
          "output_type": "execute_result"
        }
      ],
      "source": [
        "X[:5]"
      ]
    },
    {
      "cell_type": "markdown",
      "metadata": {
        "id": "c48OsYa-Qw6G"
      },
      "source": [
        "### <font color='#00d2d3'> Sentiment Analysis "
      ]
    },
    {
      "cell_type": "code",
      "execution_count": 90,
      "metadata": {
        "id": "wjzBVAQg8zjD"
      },
      "outputs": [],
      "source": [
        "from keras.models import Sequential\n",
        "from keras.layers import Dense, Embedding, LSTM, Bidirectional, Dropout"
      ]
    },
    {
      "cell_type": "code",
      "execution_count": 91,
      "metadata": {
        "colab": {
          "base_uri": "https://localhost:8080/"
        },
        "id": "9IkvYDfIQw6G",
        "outputId": "aec98131-9367-4388-91cb-98f9748b445b"
      },
      "outputs": [
        {
          "name": "stdout",
          "output_type": "stream",
          "text": [
            "Model: \"sequential_4\"\n",
            "_________________________________________________________________\n",
            " Layer (type)                Output Shape              Param #   \n",
            "=================================================================\n",
            " embedding_4 (Embedding)     (None, 21, 100)           1157100   \n",
            "                                                                 \n",
            " bidirectional (Bidirection  (None, 21, 400)           481600    \n",
            " al)                                                             \n",
            "                                                                 \n",
            " dropout_8 (Dropout)         (None, 21, 400)           0         \n",
            "                                                                 \n",
            " bidirectional_1 (Bidirecti  (None, 400)               961600    \n",
            " onal)                                                           \n",
            "                                                                 \n",
            " dropout_9 (Dropout)         (None, 400)               0         \n",
            "                                                                 \n",
            " dense_4 (Dense)             (None, 1)                 401       \n",
            "                                                                 \n",
            "=================================================================\n",
            "Total params: 2600701 (9.92 MB)\n",
            "Trainable params: 2600701 (9.92 MB)\n",
            "Non-trainable params: 0 (0.00 Byte)\n",
            "_________________________________________________________________\n",
            "None\n"
          ]
        }
      ],
      "source": [
        "# Dimension des vecteurs\n",
        "emb_dim=100\n",
        "model=Sequential()\n",
        "model.add(Embedding(voc_size, emb_dim, input_length=X.shape[1]))\n",
        "model.add(Bidirectional(LSTM(200, return_sequences=True)))\n",
        "model.add(Dropout(0.4))\n",
        "model.add(Bidirectional(LSTM(200)))\n",
        "model.add(Dropout(0.4))\n",
        "model.add(Dense(1,activation='sigmoid'))\n",
        "# Compiler le modèle\n",
        "model.compile(loss='binary_crossentropy',optimizer='adam',metrics=['accuracy'])\n",
        "# Afficher le summary\n",
        "print(model.summary())"
      ]
    },
    {
      "cell_type": "markdown",
      "metadata": {},
      "source": [
        "Separation des donnees "
      ]
    },
    {
      "cell_type": "code",
      "execution_count": 92,
      "metadata": {
        "id": "eimNcPW-Qw6H"
      },
      "outputs": [],
      "source": [
        "# Importer train_test_split\n",
        "from sklearn.model_selection import train_test_split\n",
        "# Labels\n",
        "y = df_en_tweet.label.values\n",
        "# Splitter en train, validation et test\n",
        "X_train, X_test, y_train, y_test = train_test_split(X, y, test_size=0.2, random_state=42)\n",
        "X_val, X_test, y_val, y_test = train_test_split(X_test, y_test, test_size=0.5, random_state=42)\n"
      ]
    },
    {
      "cell_type": "code",
      "execution_count": 93,
      "metadata": {
        "colab": {
          "base_uri": "https://localhost:8080/"
        },
        "id": "CGNvW1jrSvP4",
        "outputId": "32a5dadb-b15e-4fff-ca41-47681a365e02"
      },
      "outputs": [
        {
          "name": "stdout",
          "output_type": "stream",
          "text": [
            "Train set: (7240, 21) (7240,)\n",
            "Validation set: (905, 21) (905,)\n",
            "Test set: (905, 21) (905,)\n"
          ]
        }
      ],
      "source": [
        "# Afficher les dimensions des ensembles\n",
        "print(\"Train set:\", X_train.shape, y_train.shape)\n",
        "print(\"Validation set:\", X_val.shape, y_val.shape)\n",
        "print(\"Test set:\", X_test.shape, y_test.shape)"
      ]
    },
    {
      "cell_type": "markdown",
      "metadata": {},
      "source": [
        "Keras Turner pour trouver les hyperparametre du model"
      ]
    },
    {
      "cell_type": "code",
      "execution_count": 94,
      "metadata": {},
      "outputs": [],
      "source": [
        "import tensorflow as tf\n",
        "from tensorflow import keras"
      ]
    },
    {
      "cell_type": "code",
      "execution_count": 95,
      "metadata": {},
      "outputs": [
        {
          "name": "stderr",
          "output_type": "stream",
          "text": [
            "DEPRECATION: Loading egg at c:\\python311\\lib\\site-packages\\vboxapi-1.0-py3.11.egg is deprecated. pip 23.3 will enforce this behaviour change. A possible replacement is to use pip for package installation..\n",
            "\n",
            "[notice] A new release of pip is available: 23.2.1 -> 23.3.1\n",
            "[notice] To update, run: python.exe -m pip install --upgrade pip\n"
          ]
        }
      ],
      "source": [
        "! pip install -q -U keras-tuner"
      ]
    },
    {
      "cell_type": "code",
      "execution_count": 96,
      "metadata": {},
      "outputs": [],
      "source": [
        "import keras_tuner as kt\n",
        "from keras.models import Sequential\n",
        "from keras.layers import Dense, Embedding, Bidirectional, Dropout\n",
        "from tensorflow.keras.layers import GRU"
      ]
    },
    {
      "cell_type": "code",
      "execution_count": 97,
      "metadata": {},
      "outputs": [],
      "source": [
        "def model_builder(hp):\n",
        "    # Tune the number of units in the first Dense layer\n",
        "    # Choose an optimal value between 32-512\n",
        "    hp_units = hp.Int('units', min_value=32, max_value=512, step=32)\n",
        "    \n",
        "    # Choose an optimal value between 100-256\n",
        "    emb_dim = hp.Int('emb_dim', min_value=100, max_value=256, step=32)\n",
        "    \n",
        "    # Tune the learning rate for the optimizer\n",
        "    # Choose an optimal value from 0.01, 0.001, or 0.0001\n",
        "    hp_learning_rate = hp.Choice('learning_rate', values=[1e-2, 1e-3, 1e-4])\n",
        "    \n",
        "    # Choose an RNN type\n",
        "    model_type = hp.Choice('rnn_type', values=['gru', 'lstm', 'bidirectional_gru', 'bidirectional_lstm'])\n",
        "    \n",
        "    model = Sequential()\n",
        "    \n",
        "    if model_type == 'gru':\n",
        "        model.add(Embedding(voc_size, emb_dim, input_length=X.shape[1]))\n",
        "        model.add(GRU(units=hp_units, return_sequences=True))\n",
        "        model.add(Dropout(0.4))\n",
        "        model.add(GRU(units=hp_units))\n",
        "        model.add(Dropout(0.4))\n",
        "        model.add(Dense(1, activation='sigmoid'))\n",
        "    elif model_type == 'lstm':\n",
        "        model.add(Embedding(voc_size, emb_dim, input_length=X.shape[1]))\n",
        "        model.add(LSTM(units=hp_units, return_sequences=True))\n",
        "        model.add(Dropout(0.4))\n",
        "        model.add(LSTM(units=hp_units))\n",
        "        model.add(Dropout(0.4))\n",
        "        model.add(Dense(1, activation='sigmoid'))\n",
        "    elif model_type == 'bidirectional_gru':\n",
        "        model.add(Embedding(voc_size, emb_dim, input_length=X.shape[1]))\n",
        "        model.add(Bidirectional(GRU(units=hp_units, return_sequences=True)))\n",
        "        model.add(Dropout(0.4))\n",
        "        model.add(Bidirectional(GRU(units=hp_units)))\n",
        "        model.add(Dropout(0.4))\n",
        "        model.add(Dense(1, activation='sigmoid'))\n",
        "    elif model_type == 'bidirectional_lstm':\n",
        "        model.add(Embedding(voc_size, emb_dim, input_length=X.shape[1]))\n",
        "        model.add(Bidirectional(LSTM(units=hp_units, return_sequences=True)))\n",
        "        model.add(Dropout(0.4))\n",
        "        model.add(Bidirectional(LSTM(units=hp_units)))\n",
        "        model.add(Dropout(0.4))\n",
        "        model.add(Dense(1, activation='sigmoid'))\n",
        "    \n",
        "    model.compile(optimizer=tf.keras.optimizers.Adam(learning_rate=hp_learning_rate),\n",
        "                  loss='binary_crossentropy',\n",
        "                  metrics=['accuracy'])\n",
        "    \n",
        "    return model\n"
      ]
    },
    {
      "cell_type": "code",
      "execution_count": 98,
      "metadata": {},
      "outputs": [],
      "source": [
        "from kerastuner.tuners import RandomSearch\n",
        "\n",
        "tuner = RandomSearch(\n",
        "    model_builder,\n",
        "    objective='val_accuracy',\n",
        "    max_trials=5,\n",
        "    executions_per_trial=1,\n",
        "    overwrite=True,  # Nombre total d'essais de modèles\n",
        "    directory='my_dir',  # Répertoire pour enregistrer les résultats du tuner\n",
        "    project_name='intro_to_kt'\n",
        ")\n"
      ]
    },
    {
      "cell_type": "code",
      "execution_count": 99,
      "metadata": {},
      "outputs": [
        {
          "name": "stdout",
          "output_type": "stream",
          "text": [
            "Trial 5 Complete [00h 06m 15s]\n",
            "val_accuracy: 0.8839778900146484\n",
            "\n",
            "Best val_accuracy So Far: 0.889502763748169\n",
            "Total elapsed time: 00h 36m 19s\n",
            "\n",
            "Le type de modèle optimal est bidirectional_lstm.\n",
            "Le nombre optimal d'unités dans la première couche dense est 160 \n",
            "et le taux d'apprentissage optimal pour l'optimiseur est 0.01. \n",
            "et la dimension d'embedding optimale est 228\n",
            "\n"
          ]
        }
      ],
      "source": [
        "# Supposons que X_train, y_train, X_val, y_val soient vos données d'entraînement et de validation\n",
        "\n",
        "# Lancer la recherche d'hyperparamètres\n",
        "tuner.search(X_train, y_train, epochs=5, validation_data=(X_val, y_val))\n",
        "\n",
        "# Récupérer les meilleurs hyperparamètres\n",
        "best_hps = tuner.get_best_hyperparameters(num_trials=1)[0]\n",
        "best_model_type = best_hps.get('rnn_type')\n",
        "\n",
        "# Afficher les meilleurs hyperparamètres\n",
        "print(f\"\"\"\n",
        "Le type de modèle optimal est {best_model_type}.\n",
        "Le nombre optimal d'unités dans la première couche dense est {best_hps.get('units')} \n",
        "et le taux d'apprentissage optimal pour l'optimiseur est {best_hps.get('learning_rate')}. \n",
        "et la dimension d'embedding optimale est {best_hps.get('emb_dim')}\n",
        "\"\"\")\n"
      ]
    },
    {
      "cell_type": "code",
      "execution_count": 100,
      "metadata": {},
      "outputs": [
        {
          "name": "stdout",
          "output_type": "stream",
          "text": [
            "Results summary\n",
            "Results in my_dir\\intro_to_kt\n",
            "Showing 10 best trials\n",
            "Objective(name=\"val_accuracy\", direction=\"max\")\n",
            "\n",
            "Trial 2 summary\n",
            "Hyperparameters:\n",
            "units: 160\n",
            "emb_dim: 228\n",
            "learning_rate: 0.01\n",
            "rnn_type: bidirectional_lstm\n",
            "Score: 0.889502763748169\n",
            "\n",
            "Trial 4 summary\n",
            "Hyperparameters:\n",
            "units: 96\n",
            "emb_dim: 164\n",
            "learning_rate: 0.001\n",
            "rnn_type: bidirectional_lstm\n",
            "Score: 0.8839778900146484\n",
            "\n",
            "Trial 1 summary\n",
            "Hyperparameters:\n",
            "units: 512\n",
            "emb_dim: 228\n",
            "learning_rate: 0.01\n",
            "rnn_type: gru\n",
            "Score: 0.8795580267906189\n",
            "\n",
            "Trial 0 summary\n",
            "Hyperparameters:\n",
            "units: 192\n",
            "emb_dim: 132\n",
            "learning_rate: 0.01\n",
            "rnn_type: lstm\n",
            "Score: 0.8773480653762817\n",
            "\n",
            "Trial 3 summary\n",
            "Hyperparameters:\n",
            "units: 192\n",
            "emb_dim: 100\n",
            "learning_rate: 0.0001\n",
            "rnn_type: bidirectional_lstm\n",
            "Score: 0.8718231916427612\n"
          ]
        }
      ],
      "source": [
        "tuner.results_summary()"
      ]
    },
    {
      "cell_type": "code",
      "execution_count": 101,
      "metadata": {},
      "outputs": [
        {
          "name": "stdout",
          "output_type": "stream",
          "text": [
            "Epoch 1/5\n",
            "227/227 [==============================] - 51s 197ms/step - loss: 0.4506 - accuracy: 0.7916 - val_loss: 0.3329 - val_accuracy: 0.8586\n",
            "Epoch 2/5\n",
            "227/227 [==============================] - 41s 180ms/step - loss: 0.1712 - accuracy: 0.9381 - val_loss: 0.3580 - val_accuracy: 0.8773\n",
            "Epoch 3/5\n",
            "227/227 [==============================] - 41s 183ms/step - loss: 0.0897 - accuracy: 0.9669 - val_loss: 0.3681 - val_accuracy: 0.8873\n",
            "Epoch 4/5\n",
            "227/227 [==============================] - 41s 181ms/step - loss: 0.0562 - accuracy: 0.9762 - val_loss: 0.4537 - val_accuracy: 0.8906\n",
            "Epoch 5/5\n",
            "227/227 [==============================] - 41s 182ms/step - loss: 0.0484 - accuracy: 0.9801 - val_loss: 0.7417 - val_accuracy: 0.8530\n",
            "Meilleure époque : 3\n"
          ]
        }
      ],
      "source": [
        "# Construire le modèle avec les hyperparamètres optimaux\n",
        "model = tuner.hypermodel.build(best_hps)\n",
        "\n",
        "# Entraîner le modèle sur les données pendant 50 époques\n",
        "history = model.fit(X_train, y_train, epochs=5, validation_data=(X_val, y_val))\n",
        "\n",
        "# Récupérer la précision de validation par époque\n",
        "val_acc_per_epoch = history.history['val_accuracy']\n",
        "\n",
        "# Trouver la meilleure époque basée sur la précision de validation\n",
        "best_epoch = val_acc_per_epoch.index(max(val_acc_per_epoch))\n",
        "print('Meilleure époque : %d' % (best_epoch,))\n"
      ]
    },
    {
      "cell_type": "code",
      "execution_count": 103,
      "metadata": {},
      "outputs": [
        {
          "name": "stdout",
          "output_type": "stream",
          "text": [
            "Epoch 1/3\n",
            "227/227 [==============================] - 50s 192ms/step - loss: 0.4590 - accuracy: 0.7870\n",
            "Epoch 2/3\n",
            "227/227 [==============================] - 47s 206ms/step - loss: 0.1753 - accuracy: 0.9341\n",
            "Epoch 3/3\n",
            "227/227 [==============================] - 47s 208ms/step - loss: 0.0993 - accuracy: 0.9631\n"
          ]
        },
        {
          "data": {
            "text/plain": [
              "<keras.src.callbacks.History at 0x153812e2ed0>"
            ]
          },
          "execution_count": 103,
          "metadata": {},
          "output_type": "execute_result"
        }
      ],
      "source": [
        "# Construire à nouveau le modèle avec les meilleurs hyperparamètres\n",
        "hypermodel = tuner.hypermodel.build(best_hps)\n",
        "\n",
        "# Réentraîner le modèle sur toutes les données jusqu'à la meilleure époque identifiée (4 dans cet exemple)\n",
        "hypermodel.fit(X_train, y_train, epochs=best_epoch)\n"
      ]
    },
    {
      "cell_type": "code",
      "execution_count": 104,
      "metadata": {},
      "outputs": [
        {
          "name": "stdout",
          "output_type": "stream",
          "text": [
            "29/29 [==============================] - 4s 83ms/step - loss: 0.4402 - accuracy: 0.8707\n",
            "Loss sur l'ensemble de validation : 0.44023385643959045\n",
            "Précision sur l'ensemble de validation : 0.870718240737915\n"
          ]
        }
      ],
      "source": [
        "# Évaluer les performances du modèle sur l'ensemble de validation\n",
        "eval_result = hypermodel.evaluate(X_val, y_val)\n",
        "\n",
        "# Afficher les résultats\n",
        "print(f\"Loss sur l'ensemble de validation : {eval_result[0]}\")\n",
        "print(f\"Précision sur l'ensemble de validation : {eval_result[1]}\")\n"
      ]
    },
    {
      "cell_type": "code",
      "execution_count": 126,
      "metadata": {},
      "outputs": [
        {
          "name": "stderr",
          "output_type": "stream",
          "text": [
            "c:\\Python311\\Lib\\site-packages\\keras\\src\\engine\\training.py:3079: UserWarning: You are saving your model as an HDF5 file via `model.save()`. This file format is considered legacy. We recommend using instead the native Keras format, e.g. `model.save('my_model.keras')`.\n",
            "  saving_api.save_model(\n"
          ]
        }
      ],
      "source": [
        "# Enregistrer le modèle \n",
        "hypermodel.save('Sentiment_Analysis_en.h5')\n"
      ]
    },
    {
      "cell_type": "markdown",
      "metadata": {
        "id": "arowvwnvHjj6"
      },
      "source": [
        "###### <font color='#1dd1a1'> Test le modèle"
      ]
    },
    {
      "cell_type": "code",
      "execution_count": 123,
      "metadata": {
        "id": "_msI2gPTHxAJ"
      },
      "outputs": [
        {
          "name": "stdout",
          "output_type": "stream",
          "text": [
            "['fuck coachella', 'dear please give u multiracial objective list prove selection', 'christina grimmies last performance shot via christinarip voice christinagrimmie', 'rebellion uk dontbuythesun rag spread tory propaganda fear hatred', 'hour thy uncle sayeth disturb pay']\n"
          ]
        }
      ],
      "source": [
        "# x_text text non vectorisées\n",
        "tweet = tokenizer.sequences_to_texts(X_test[1:6])\n",
        "# x_text text vectorisées\n",
        "twt = X_test[1:6]\n",
        "print(tweet)"
      ]
    },
    {
      "cell_type": "code",
      "execution_count": 124,
      "metadata": {
        "id": "UkqwJPlMCYWc"
      },
      "outputs": [
        {
          "name": "stdout",
          "output_type": "stream",
          "text": [
            "1/1 [==============================] - 0s 98ms/step\n"
          ]
        }
      ],
      "source": [
        "# Prédictions les labels\n",
        "y_pred=model.predict(twt)\n",
        "# Arrondir les valeus\n",
        "y_pred = np.round(y_pred)"
      ]
    },
    {
      "cell_type": "code",
      "execution_count": 125,
      "metadata": {
        "id": "sa9Akx-BQw6I"
      },
      "outputs": [
        {
          "name": "stdout",
          "output_type": "stream",
          "text": [
            "fuck coachella --------- ['Positive sentiment']\n",
            "dear please give u multiracial objective list prove selection --------- ['Positive sentiment']\n",
            "christina grimmies last performance shot via christinarip voice christinagrimmie --------- ['Negative sentiment']\n",
            "rebellion uk dontbuythesun rag spread tory propaganda fear hatred --------- ['Positive sentiment']\n",
            "hour thy uncle sayeth disturb pay --------- ['Negative sentiment']\n"
          ]
        },
        {
          "name": "stderr",
          "output_type": "stream",
          "text": [
            "C:\\Users\\HP\\AppData\\Local\\Temp\\ipykernel_20228\\3629067660.py:3: DeprecationWarning: Conversion of an array with ndim > 0 to a scalar is deprecated, and will error in future. Ensure you extract a single element from your array before performing this operation. (Deprecated NumPy 1.25.)\n",
            "  print(tweet[i], \"---------\", [\"Negative sentiment\" if int(y_pred[i]) == 0 else \"Positive sentiment\"])\n"
          ]
        }
      ],
      "source": [
        "# Afficher les sentiments prédits\n",
        "for i in range(0, 5):\n",
        "    print(tweet[i], \"---------\", [\"Negative sentiment\" if int(y_pred[i]) == 0 else \"Positive sentiment\"])"
      ]
    }
  ],
  "metadata": {
    "accelerator": "GPU",
    "colab": {
      "provenance": []
    },
    "kernelspec": {
      "display_name": "Python 3",
      "name": "python3"
    },
    "language_info": {
      "codemirror_mode": {
        "name": "ipython",
        "version": 3
      },
      "file_extension": ".py",
      "mimetype": "text/x-python",
      "name": "python",
      "nbconvert_exporter": "python",
      "pygments_lexer": "ipython3",
      "version": "3.11.4"
    }
  },
  "nbformat": 4,
  "nbformat_minor": 0
}
