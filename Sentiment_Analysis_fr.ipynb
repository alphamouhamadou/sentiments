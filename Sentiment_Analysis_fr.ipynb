{
  "cells": [
    {
      "cell_type": "markdown",
      "metadata": {
        "id": "czmb2CAfwZkB"
      },
      "source": [
        "### <font color='#00d2d3'> Importer les packages"
      ]
    },
    {
      "cell_type": "code",
      "execution_count": 51,
      "metadata": {
        "colab": {
          "base_uri": "https://localhost:8080/"
        },
        "id": "LU_5yINqMjZ0",
        "outputId": "abdb477e-638a-41a1-e8f7-b668bd912654"
      },
      "outputs": [
        {
          "name": "stderr",
          "output_type": "stream",
          "text": [
            "[nltk_data] Downloading package stopwords to\n",
            "[nltk_data]     C:\\Users\\HP\\AppData\\Roaming\\nltk_data...\n",
            "[nltk_data]   Package stopwords is already up-to-date!\n",
            "[nltk_data] Downloading package wordnet to\n",
            "[nltk_data]     C:\\Users\\HP\\AppData\\Roaming\\nltk_data...\n",
            "[nltk_data]   Package wordnet is already up-to-date!\n"
          ]
        }
      ],
      "source": [
        "# Importer les packages\n",
        "import numpy as np\n",
        "import pandas as pd\n",
        "import matplotlib.pyplot as plt\n",
        "import re\n",
        "import nltk\n",
        "nltk.download('stopwords') # Télécharger le package stopwords\n",
        "nltk.download('wordnet')\n",
        "from nltk.corpus import stopwords # Importer le package stopwords"
      ]
    },
    {
      "cell_type": "markdown",
      "metadata": {
        "id": "KlHMJw7NQw5k"
      },
      "source": [
        "### <font color='#00d2d3'> Importer et lire les données"
      ]
    },
    {
      "cell_type": "code",
      "execution_count": 52,
      "metadata": {
        "colab": {
          "base_uri": "https://localhost:8080/",
          "height": 206
        },
        "id": "QYwI5fuQMojZ",
        "outputId": "a53ccb88-d8f8-4916-deb9-2bc08ceee2d1"
      },
      "outputs": [
        {
          "data": {
            "text/html": [
              "<div>\n",
              "<style scoped>\n",
              "    .dataframe tbody tr th:only-of-type {\n",
              "        vertical-align: middle;\n",
              "    }\n",
              "\n",
              "    .dataframe tbody tr th {\n",
              "        vertical-align: top;\n",
              "    }\n",
              "\n",
              "    .dataframe thead th {\n",
              "        text-align: right;\n",
              "    }\n",
              "</style>\n",
              "<table border=\"1\" class=\"dataframe\">\n",
              "  <thead>\n",
              "    <tr style=\"text-align: right;\">\n",
              "      <th></th>\n",
              "      <th>label</th>\n",
              "      <th>text</th>\n",
              "    </tr>\n",
              "  </thead>\n",
              "  <tbody>\n",
              "    <tr>\n",
              "      <th>0</th>\n",
              "      <td>0</td>\n",
              "      <td>- Awww, c'est un bummer. Tu devrais avoir davi...</td>\n",
              "    </tr>\n",
              "    <tr>\n",
              "      <th>1</th>\n",
              "      <td>0</td>\n",
              "      <td>Est contrarié qu'il ne puisse pas mettre à jou...</td>\n",
              "    </tr>\n",
              "    <tr>\n",
              "      <th>2</th>\n",
              "      <td>0</td>\n",
              "      <td>J'ai plongé plusieurs fois pour la balle. A ré...</td>\n",
              "    </tr>\n",
              "    <tr>\n",
              "      <th>3</th>\n",
              "      <td>0</td>\n",
              "      <td>Tout mon corps a des démangeaisons et comme si...</td>\n",
              "    </tr>\n",
              "    <tr>\n",
              "      <th>4</th>\n",
              "      <td>0</td>\n",
              "      <td>Non, il ne se comporte pas du tout. je suis en...</td>\n",
              "    </tr>\n",
              "  </tbody>\n",
              "</table>\n",
              "</div>"
            ],
            "text/plain": [
              "   label                                               text\n",
              "0      0  - Awww, c'est un bummer. Tu devrais avoir davi...\n",
              "1      0  Est contrarié qu'il ne puisse pas mettre à jou...\n",
              "2      0  J'ai plongé plusieurs fois pour la balle. A ré...\n",
              "3      0  Tout mon corps a des démangeaisons et comme si...\n",
              "4      0  Non, il ne se comporte pas du tout. je suis en..."
            ]
          },
          "execution_count": 52,
          "metadata": {},
          "output_type": "execute_result"
        }
      ],
      "source": [
        "# Importer les données\n",
        "df = pd.read_csv('C:/Users/hp/Documents/nlp/french_tweets.csv')\n",
        "# Afficher les données\n",
        "df.head()\n"
      ]
    },
    {
      "cell_type": "markdown",
      "metadata": {
        "id": "0AqkjpUZQw5m"
      },
      "source": [
        "- 1 : Negative\n",
        "- 0 : Positive"
      ]
    },
    {
      "cell_type": "markdown",
      "metadata": {},
      "source": [
        "### <font color='#00d2d3'> Pré-traitement des données"
      ]
    },
    {
      "cell_type": "code",
      "execution_count": 53,
      "metadata": {
        "colab": {
          "base_uri": "https://localhost:8080/"
        },
        "id": "v5DYAQbZQw5n",
        "outputId": "2e481ce6-f7ba-489a-a536-a2f0ebdd2209"
      },
      "outputs": [
        {
          "name": "stdout",
          "output_type": "stream",
          "text": [
            "(1526724, 2)\n"
          ]
        }
      ],
      "source": [
        "# Dimension des données\n",
        "print(df.shape)\n"
      ]
    },
    {
      "cell_type": "code",
      "execution_count": 54,
      "metadata": {},
      "outputs": [],
      "source": [
        "# Sélectionner aléatoirement 50 000 lignes du DataFrame 'df' pour un échantillonnage équilibré\n",
        "df = df.sample(n=6000, random_state=42)\n"
      ]
    },
    {
      "cell_type": "code",
      "execution_count": 55,
      "metadata": {},
      "outputs": [
        {
          "name": "stdout",
          "output_type": "stream",
          "text": [
            "(6000, 2)\n"
          ]
        }
      ],
      "source": [
        "# Dimension des données\n",
        "print(df.shape)\n"
      ]
    },
    {
      "cell_type": "code",
      "execution_count": 56,
      "metadata": {},
      "outputs": [
        {
          "data": {
            "text/plain": [
              "label    0\n",
              "text     0\n",
              "dtype: int64"
            ]
          },
          "execution_count": 56,
          "metadata": {},
          "output_type": "execute_result"
        }
      ],
      "source": [
        "# verifier les valeurs manquantes\n",
        "df.isnull().sum()"
      ]
    },
    {
      "cell_type": "code",
      "execution_count": 57,
      "metadata": {
        "colab": {
          "base_uri": "https://localhost:8080/"
        },
        "id": "jtFrSBXPQw5p",
        "outputId": "cfea5dff-c58c-43b4-90eb-0ac3842f1657"
      },
      "outputs": [
        {
          "data": {
            "text/plain": [
              "label\n",
              "0    3099\n",
              "1    2901\n",
              "Name: count, dtype: int64"
            ]
          },
          "execution_count": 57,
          "metadata": {},
          "output_type": "execute_result"
        }
      ],
      "source": [
        "# Nombre d'observations dans chaque classe\n",
        "df.label.value_counts()"
      ]
    },
    {
      "cell_type": "code",
      "execution_count": 58,
      "metadata": {},
      "outputs": [
        {
          "data": {
            "text/html": [
              "<div>\n",
              "<style scoped>\n",
              "    .dataframe tbody tr th:only-of-type {\n",
              "        vertical-align: middle;\n",
              "    }\n",
              "\n",
              "    .dataframe tbody tr th {\n",
              "        vertical-align: top;\n",
              "    }\n",
              "\n",
              "    .dataframe thead th {\n",
              "        text-align: right;\n",
              "    }\n",
              "</style>\n",
              "<table border=\"1\" class=\"dataframe\">\n",
              "  <thead>\n",
              "    <tr style=\"text-align: right;\">\n",
              "      <th></th>\n",
              "      <th>label</th>\n",
              "      <th>text</th>\n",
              "    </tr>\n",
              "  </thead>\n",
              "  <tbody>\n",
              "    <tr>\n",
              "      <th>471040</th>\n",
              "      <td>0</td>\n",
              "      <td>El som et la société humaine avec cindy! Je ve...</td>\n",
              "    </tr>\n",
              "    <tr>\n",
              "      <th>1340507</th>\n",
              "      <td>1</td>\n",
              "      <td>Quel beau jour d'été</td>\n",
              "    </tr>\n",
              "    <tr>\n",
              "      <th>757669</th>\n",
              "      <td>0</td>\n",
              "      <td>Déteste assis à l'intérieur quand c'est une be...</td>\n",
              "    </tr>\n",
              "    <tr>\n",
              "      <th>119639</th>\n",
              "      <td>0</td>\n",
              "      <td>Lundi matin même pas le soleil</td>\n",
              "    </tr>\n",
              "    <tr>\n",
              "      <th>1190949</th>\n",
              "      <td>1</td>\n",
              "      <td>La soeur a juste été bronzée: soph: 'what are ...</td>\n",
              "    </tr>\n",
              "    <tr>\n",
              "      <th>...</th>\n",
              "      <td>...</td>\n",
              "      <td>...</td>\n",
              "    </tr>\n",
              "    <tr>\n",
              "      <th>1167672</th>\n",
              "      <td>1</td>\n",
              "      <td>Examen maintenant! Oui à la maison, attendez q...</td>\n",
              "    </tr>\n",
              "    <tr>\n",
              "      <th>1177206</th>\n",
              "      <td>1</td>\n",
              "      <td>Écoute le \"drake's\" jusqu'ici allé &amp; quot; Lai...</td>\n",
              "    </tr>\n",
              "    <tr>\n",
              "      <th>1414125</th>\n",
              "      <td>1</td>\n",
              "      <td>Merci d'avoir partagé cela. Très drôle. J'ai s...</td>\n",
              "    </tr>\n",
              "    <tr>\n",
              "      <th>417575</th>\n",
              "      <td>0</td>\n",
              "      <td>À la maison hors de la douche, omg est gelé! É...</td>\n",
              "    </tr>\n",
              "    <tr>\n",
              "      <th>989717</th>\n",
              "      <td>1</td>\n",
              "      <td>Je suis le 6 juin c'est mon anniversaire. Marq...</td>\n",
              "    </tr>\n",
              "  </tbody>\n",
              "</table>\n",
              "<p>6000 rows × 2 columns</p>\n",
              "</div>"
            ],
            "text/plain": [
              "         label                                               text\n",
              "471040       0  El som et la société humaine avec cindy! Je ve...\n",
              "1340507      1                               Quel beau jour d'été\n",
              "757669       0  Déteste assis à l'intérieur quand c'est une be...\n",
              "119639       0                     Lundi matin même pas le soleil\n",
              "1190949      1  La soeur a juste été bronzée: soph: 'what are ...\n",
              "...        ...                                                ...\n",
              "1167672      1  Examen maintenant! Oui à la maison, attendez q...\n",
              "1177206      1  Écoute le \"drake's\" jusqu'ici allé & quot; Lai...\n",
              "1414125      1  Merci d'avoir partagé cela. Très drôle. J'ai s...\n",
              "417575       0  À la maison hors de la douche, omg est gelé! É...\n",
              "989717       1  Je suis le 6 juin c'est mon anniversaire. Marq...\n",
              "\n",
              "[6000 rows x 2 columns]"
            ]
          },
          "execution_count": 58,
          "metadata": {},
          "output_type": "execute_result"
        }
      ],
      "source": [
        "# Affiche le dataframe finale\n",
        "df"
      ]
    },
    {
      "cell_type": "code",
      "execution_count": 59,
      "metadata": {
        "colab": {
          "base_uri": "https://localhost:8080/",
          "height": 472
        },
        "id": "Or_O3O2LQw5q",
        "outputId": "6eeab3b1-5493-4966-9851-71a4a184ad7d"
      },
      "outputs": [
        {
          "data": {
            "image/png": "[encoded data removed]",
            "text/plain": [
              "<Figure size 640x480 with 1 Axes>"
            ]
          },
          "metadata": {},
          "output_type": "display_data"
        }
      ],
      "source": [
        "# Calculer le nombre d'observations pour chaque classe de sentiment\n",
        "sentiment_counts = df['label'].value_counts()\n",
        "\n",
        "# Créer un diagramme à barres\n",
        "plt.bar(sentiment_counts.index, sentiment_counts.values)\n",
        "\n",
        "# Ajouter des étiquettes et afficher le graphique\n",
        "plt.xlabel('Sentiment')\n",
        "plt.ylabel('Nombre d\\'observations')\n",
        "plt.title('Nombre d\\'observations dans chaque classe de sentiment à Coachella')\n",
        "plt.show()\n"
      ]
    },
    {
      "cell_type": "markdown",
      "metadata": {
        "id": "_41c8uL5Qw5r"
      },
      "source": [
        "#### <font color='#00d2d3'> Pré-traitement des données textuelles"
      ]
    },
    {
      "cell_type": "code",
      "execution_count": 60,
      "metadata": {
        "colab": {
          "base_uri": "https://localhost:8080/",
          "height": 36
        },
        "id": "dwMVggXAQw5u",
        "outputId": "4748ddbe-678e-43cc-e89c-8bb22609d557"
      },
      "outputs": [
        {
          "data": {
            "text/plain": [
              "'El som et la société humaine avec cindy! Je veux vraiment un chiot ou un chaton'"
            ]
          },
          "execution_count": 60,
          "metadata": {},
          "output_type": "execute_result"
        }
      ],
      "source": [
        "# Afficher une ligne\n",
        "df['text'][471040]"
      ]
    },
    {
      "cell_type": "markdown",
      "metadata": {
        "id": "8TbCKi_C2DVr"
      },
      "source": [
        "###### <font color='#1dd1a1'> Commencer le nettoyage des tweets\n"
      ]
    },
    {
      "cell_type": "code",
      "execution_count": 61,
      "metadata": {
        "id": "CJDmurEzQw5y"
      },
      "outputs": [],
      "source": [
        "# Fonction supprimant les liens\n",
        "def remove_links(text):\n",
        "    text = re.sub(r'http:?//\\S+|https:?//\\S+', '', text)\n",
        "    return text\n"
      ]
    },
    {
      "cell_type": "code",
      "execution_count": 62,
      "metadata": {
        "id": "Vm1912YqQw5y"
      },
      "outputs": [],
      "source": [
        "# Fonction supprimant les @username\n",
        "def remove_users(text):\n",
        "    text = re.sub(r'@[\\w\\-\\.]+', '', text)  #re.sub(r'@[a-zA-Z0-9-._]+', '', text)\n",
        "    return text\n"
      ]
    },
    {
      "cell_type": "code",
      "execution_count": 63,
      "metadata": {
        "id": "06fJkgu2Qw5z"
      },
      "outputs": [],
      "source": [
        "# Supprimer les adresses emails\n",
        "def email_address(text):\n",
        "    text = re.sub(r'[\\w\\-\\.]+@[\\w\\-\\.]+', '', text)\n",
        "    return text"
      ]
    },
    {
      "cell_type": "code",
      "execution_count": 64,
      "metadata": {
        "colab": {
          "base_uri": "https://localhost:8080/"
        },
        "id": "yhDsZZaaRVnv",
        "outputId": "85333df3-c571-43cb-a756-763eb9bab145"
      },
      "outputs": [
        {
          "name": "stdout",
          "output_type": "stream",
          "text": [
            "Requirement already satisfied: contractions in c:\\python311\\lib\\site-packages (0.1.73)\n",
            "Requirement already satisfied: textsearch>=0.0.21 in c:\\python311\\lib\\site-packages (from contractions) (0.0.24)\n",
            "Requirement already satisfied: anyascii in c:\\python311\\lib\\site-packages (from textsearch>=0.0.21->contractions) (0.3.2)\n",
            "Requirement already satisfied: pyahocorasick in c:\\python311\\lib\\site-packages (from textsearch>=0.0.21->contractions) (2.0.0)\n"
          ]
        },
        {
          "name": "stderr",
          "output_type": "stream",
          "text": [
            "DEPRECATION: Loading egg at c:\\python311\\lib\\site-packages\\vboxapi-1.0-py3.11.egg is deprecated. pip 23.3 will enforce this behaviour change. A possible replacement is to use pip for package installation..\n",
            "\n",
            "[notice] A new release of pip is available: 23.2.1 -> 23.3.1\n",
            "[notice] To update, run: python.exe -m pip install --upgrade pip\n"
          ]
        }
      ],
      "source": [
        "! pip install contractions"
      ]
    },
    {
      "cell_type": "code",
      "execution_count": 65,
      "metadata": {
        "id": "dr4lFuBHQw50"
      },
      "outputs": [],
      "source": [
        "import contractions\n",
        "# Fonction étendant les contractions\n",
        "def contraction(text):\n",
        "    expanded_all = []\n",
        "    for word in text.split():\n",
        "        expanded_all.append(contractions.fix(word)) # utiliser la fonction fix de contractions\n",
        "\n",
        "    expand = ' '.join(expanded_all)\n",
        "    return expand"
      ]
    },
    {
      "cell_type": "code",
      "execution_count": 66,
      "metadata": {
        "id": "p8oVUvyDQw51"
      },
      "outputs": [],
      "source": [
        "# Supprimer html caractères\n",
        "def clean_html(text):\n",
        "  text = re.sub(r'&\\w+','', text)\n",
        "  return text"
      ]
    },
    {
      "cell_type": "code",
      "execution_count": 67,
      "metadata": {
        "id": "nLNuYb7KQw52"
      },
      "outputs": [],
      "source": [
        "# Remplacer tout ce qui n'est chaines de caractères alphabétiques et espace par ' '\n",
        "def alpha_b(text):\n",
        "  text = re.sub(r'[^a-zA-Z\\s]+','', text)\n",
        "  return text"
      ]
    },
    {
      "cell_type": "code",
      "execution_count": 68,
      "metadata": {
        "id": "Jqv5Z7AHQw53"
      },
      "outputs": [],
      "source": [
        "# Fonction remplaçant les espaces multiples et convertissant majuscules en minuscules\n",
        "def lower(text):\n",
        "    # Remplacer les espaces multiples par un seul espace\n",
        "    text = re.sub(r'\\s+',' ', text)\n",
        "\n",
        "    # Convertir les majuscules en minuscules\n",
        "    text = text.lower()\n",
        "    return text"
      ]
    },
    {
      "cell_type": "code",
      "execution_count": 69,
      "metadata": {
        "id": "zK7xShT2Qw53"
      },
      "outputs": [],
      "source": [
        "# Supprimer les espaces en début et fin de tweet\n",
        "def clean_space(text):\n",
        "  text = text.strip()\n",
        "  return text"
      ]
    },
    {
      "cell_type": "code",
      "execution_count": 70,
      "metadata": {
        "id": "TrTkDXL6Qw54"
      },
      "outputs": [],
      "source": [
        "# Fonction supprimant les stopwords\n",
        "def remove_stopwords(text):\n",
        "    Stopwords = stopwords.words('english')\n",
        "    text= ' '.join([word for word in text.split() if word not in Stopwords])\n",
        "    return text"
      ]
    },
    {
      "cell_type": "code",
      "execution_count": 71,
      "metadata": {
        "id": "q6nwwvbsQw55"
      },
      "outputs": [],
      "source": [
        "# Lemmatization\n",
        "from nltk.stem import WordNetLemmatizer\n",
        "lemma=WordNetLemmatizer()\n",
        "def lem_sw(text):\n",
        "    text = [lemma.lemmatize(word) for word in text.split()]\n",
        "    text = \" \".join(text)\n",
        "    return text"
      ]
    },
    {
      "cell_type": "markdown",
      "metadata": {
        "id": "q1GFBn2peCbz"
      },
      "source": [
        "###### <font color='#1dd1a1'> Appliquer les différentes fonctions sur les tweets\n",
        "\n"
      ]
    },
    {
      "cell_type": "code",
      "execution_count": 72,
      "metadata": {
        "id": "2T1IFv1zkKlx"
      },
      "outputs": [],
      "source": [
        "# Appliquer la fonction remove_users\n",
        "df['new_text'] = df.text.apply(func = remove_users)\n",
        "\n",
        "# Appliquer la fonction remove_links\n",
        "df['new_text']= df.new_text.apply(func = email_address)\n",
        "\n",
        "# Appliquer la fonction email_address\n",
        "df['new_text'] = df.new_text.apply(func = remove_links)\n",
        "\n",
        "# Appliquer la fonction remove_contraction\n",
        "df['new_text'] = df.new_text.apply(func = contraction)\n",
        "\n",
        "# Appliquer la fonction clean_html\n",
        "df['new_text'] = df.new_text.apply(func = clean_html)\n",
        "\n",
        "# Appliquer la fonction alpha_b\n",
        "df['new_text'] = df.new_text.apply(func = alpha_b)\n",
        "\n",
        "# Appliquer la fonction lower\n",
        "df['new_tweet'] = df.new_text.apply(func = lower)\n",
        "\n",
        "# Appliquer la fonction clean_space\n",
        "df['new_text'] = df.new_text.apply(func = clean_space)\n",
        "\n",
        "# Appliquer la fonction remove_stopwords\n",
        "df['new_text'] = df.new_text.apply(func = remove_stopwords)\n",
        "\n",
        "# Appliquer la fonction lem_sw\n",
        "df['new_text'] = df.new_text.apply(func = lem_sw)\n"
      ]
    },
    {
      "cell_type": "code",
      "execution_count": 73,
      "metadata": {
        "colab": {
          "base_uri": "https://localhost:8080/",
          "height": 206
        },
        "id": "yCAzSftbpa8u",
        "outputId": "5c172757-50b1-4b40-a34c-4980a5349f4b"
      },
      "outputs": [
        {
          "data": {
            "text/html": [
              "<div>\n",
              "<style scoped>\n",
              "    .dataframe tbody tr th:only-of-type {\n",
              "        vertical-align: middle;\n",
              "    }\n",
              "\n",
              "    .dataframe tbody tr th {\n",
              "        vertical-align: top;\n",
              "    }\n",
              "\n",
              "    .dataframe thead th {\n",
              "        text-align: right;\n",
              "    }\n",
              "</style>\n",
              "<table border=\"1\" class=\"dataframe\">\n",
              "  <thead>\n",
              "    <tr style=\"text-align: right;\">\n",
              "      <th></th>\n",
              "      <th>label</th>\n",
              "      <th>text</th>\n",
              "      <th>new_text</th>\n",
              "      <th>new_tweet</th>\n",
              "    </tr>\n",
              "  </thead>\n",
              "  <tbody>\n",
              "    <tr>\n",
              "      <th>471040</th>\n",
              "      <td>0</td>\n",
              "      <td>El som et la société humaine avec cindy! Je ve...</td>\n",
              "      <td>El som et la socit humaine avec cindy Je veux ...</td>\n",
              "      <td>el som et la socit humaine avec cindy je veux ...</td>\n",
              "    </tr>\n",
              "    <tr>\n",
              "      <th>1340507</th>\n",
              "      <td>1</td>\n",
              "      <td>Quel beau jour d'été</td>\n",
              "      <td>Quel beau jour dt</td>\n",
              "      <td>quel beau jour dt</td>\n",
              "    </tr>\n",
              "    <tr>\n",
              "      <th>757669</th>\n",
              "      <td>0</td>\n",
              "      <td>Déteste assis à l'intérieur quand c'est une be...</td>\n",
              "      <td>Dteste assis lintrieur quand cest une belle jo...</td>\n",
              "      <td>dteste assis lintrieur quand cest une belle jo...</td>\n",
              "    </tr>\n",
              "    <tr>\n",
              "      <th>119639</th>\n",
              "      <td>0</td>\n",
              "      <td>Lundi matin même pas le soleil</td>\n",
              "      <td>Lundi matin mme pa le soleil</td>\n",
              "      <td>lundi matin mme pas le soleil</td>\n",
              "    </tr>\n",
              "    <tr>\n",
              "      <th>1190949</th>\n",
              "      <td>1</td>\n",
              "      <td>La soeur a juste été bronzée: soph: 'what are ...</td>\n",
              "      <td>La soeur juste bronze soph Jess acajou elle la...</td>\n",
              "      <td>la soeur a juste t bronze soph what are you je...</td>\n",
              "    </tr>\n",
              "    <tr>\n",
              "      <th>...</th>\n",
              "      <td>...</td>\n",
              "      <td>...</td>\n",
              "      <td>...</td>\n",
              "      <td>...</td>\n",
              "    </tr>\n",
              "    <tr>\n",
              "      <th>1167672</th>\n",
              "      <td>1</td>\n",
              "      <td>Examen maintenant! Oui à la maison, attendez q...</td>\n",
              "      <td>Examen maintenant Oui la maison attendez que p...</td>\n",
              "      <td>examen maintenant oui la maison attendez que m...</td>\n",
              "    </tr>\n",
              "    <tr>\n",
              "      <th>1177206</th>\n",
              "      <td>1</td>\n",
              "      <td>Écoute le \"drake's\" jusqu'ici allé &amp; quot; Lai...</td>\n",
              "      <td>coute le drake jusquici quot Laisser lui et ll...</td>\n",
              "      <td>coute le drakes jusquici all quot laisser lui ...</td>\n",
              "    </tr>\n",
              "    <tr>\n",
              "      <th>1414125</th>\n",
              "      <td>1</td>\n",
              "      <td>Merci d'avoir partagé cela. Très drôle. J'ai s...</td>\n",
              "      <td>Merci davoir partag cela Trs drle Jai suivi</td>\n",
              "      <td>merci davoir partag cela trs drle jai suivi</td>\n",
              "    </tr>\n",
              "    <tr>\n",
              "      <th>417575</th>\n",
              "      <td>0</td>\n",
              "      <td>À la maison hors de la douche, omg est gelé! É...</td>\n",
              "      <td>la maison hors de la douche omg est gel cole d...</td>\n",
              "      <td>la maison hors de la douche omg est gel cole ...</td>\n",
              "    </tr>\n",
              "    <tr>\n",
              "      <th>989717</th>\n",
              "      <td>1</td>\n",
              "      <td>Je suis le 6 juin c'est mon anniversaire. Marq...</td>\n",
              "      <td>Je suis le juin cest mon anniversaire Marquez ...</td>\n",
              "      <td>je suis le juin cest mon anniversaire marquez ...</td>\n",
              "    </tr>\n",
              "  </tbody>\n",
              "</table>\n",
              "<p>6000 rows × 4 columns</p>\n",
              "</div>"
            ],
            "text/plain": [
              "         label                                               text  \\\n",
              "471040       0  El som et la société humaine avec cindy! Je ve...   \n",
              "1340507      1                               Quel beau jour d'été   \n",
              "757669       0  Déteste assis à l'intérieur quand c'est une be...   \n",
              "119639       0                     Lundi matin même pas le soleil   \n",
              "1190949      1  La soeur a juste été bronzée: soph: 'what are ...   \n",
              "...        ...                                                ...   \n",
              "1167672      1  Examen maintenant! Oui à la maison, attendez q...   \n",
              "1177206      1  Écoute le \"drake's\" jusqu'ici allé & quot; Lai...   \n",
              "1414125      1  Merci d'avoir partagé cela. Très drôle. J'ai s...   \n",
              "417575       0  À la maison hors de la douche, omg est gelé! É...   \n",
              "989717       1  Je suis le 6 juin c'est mon anniversaire. Marq...   \n",
              "\n",
              "                                                  new_text  \\\n",
              "471040   El som et la socit humaine avec cindy Je veux ...   \n",
              "1340507                                  Quel beau jour dt   \n",
              "757669   Dteste assis lintrieur quand cest une belle jo...   \n",
              "119639                        Lundi matin mme pa le soleil   \n",
              "1190949  La soeur juste bronze soph Jess acajou elle la...   \n",
              "...                                                    ...   \n",
              "1167672  Examen maintenant Oui la maison attendez que p...   \n",
              "1177206  coute le drake jusquici quot Laisser lui et ll...   \n",
              "1414125        Merci davoir partag cela Trs drle Jai suivi   \n",
              "417575   la maison hors de la douche omg est gel cole d...   \n",
              "989717   Je suis le juin cest mon anniversaire Marquez ...   \n",
              "\n",
              "                                                 new_tweet  \n",
              "471040   el som et la socit humaine avec cindy je veux ...  \n",
              "1340507                                  quel beau jour dt  \n",
              "757669   dteste assis lintrieur quand cest une belle jo...  \n",
              "119639                       lundi matin mme pas le soleil  \n",
              "1190949  la soeur a juste t bronze soph what are you je...  \n",
              "...                                                    ...  \n",
              "1167672  examen maintenant oui la maison attendez que m...  \n",
              "1177206  coute le drakes jusquici all quot laisser lui ...  \n",
              "1414125        merci davoir partag cela trs drle jai suivi  \n",
              "417575    la maison hors de la douche omg est gel cole ...  \n",
              "989717   je suis le juin cest mon anniversaire marquez ...  \n",
              "\n",
              "[6000 rows x 4 columns]"
            ]
          },
          "execution_count": 73,
          "metadata": {},
          "output_type": "execute_result"
        }
      ],
      "source": [
        "# Afficher df\n",
        "df"
      ]
    },
    {
      "cell_type": "code",
      "execution_count": 74,
      "metadata": {},
      "outputs": [
        {
          "name": "stdout",
          "output_type": "stream",
          "text": [
            "label\n",
            "0    3099\n",
            "1    3099\n",
            "Name: count, dtype: int64\n"
          ]
        }
      ],
      "source": [
        "from imblearn.over_sampling import RandomOverSampler\n",
        "import pandas as pd\n",
        "\n",
        "# Diviser les données en features (X) et labels (y)\n",
        "x = df. drop('label', axis=1)\n",
        "# Assurez-vous d'ajuster le nom de la colonne si nécessaire\n",
        "y = df[ 'label']\n",
        "# Initialiser l'objet RandomOverSampler\n",
        "ros = RandomOverSampler (random_state=42)\n",
        "# Appliquer la suréchantillonnage aux données\n",
        "X_resampled, y_resampled = ros.fit_resample(x, y)\n",
        "# Créer un nouveau DataFrame avec les données équilibrées \n",
        "df = pd. concat ([X_resampled, y_resampled], axis=1)\n",
        "# Afficher la distribution des classes dans les données équilibrées \n",
        "print (df['label'].value_counts ())"
      ]
    },
    {
      "cell_type": "code",
      "execution_count": null,
      "metadata": {},
      "outputs": [],
      "source": []
    },
    {
      "cell_type": "markdown",
      "metadata": {
        "id": "ugtv8w6SQw6F"
      },
      "source": [
        "### <font color='#00d2d3'> Vectorisation"
      ]
    },
    {
      "cell_type": "code",
      "execution_count": 75,
      "metadata": {
        "id": "ihjG2i2QQw6F"
      },
      "outputs": [],
      "source": [
        "# Importer les packages\n",
        "from keras.preprocessing.text import Tokenizer\n",
        "from keras.preprocessing.sequence import pad_sequences"
      ]
    },
    {
      "cell_type": "code",
      "execution_count": 76,
      "metadata": {
        "id": "18NzfK9EQw6G"
      },
      "outputs": [],
      "source": [
        "# Nombre de mots\n",
        "import json\n",
        "voc_size = len(set(\" \".join(df.new_text).split()))\n",
        "# Initialiser le modèle Tokenizer\n",
        "tokenizer = Tokenizer(num_words=voc_size, split=' ')\n",
        "# Entrainer les données\n",
        "tokenizer.fit_on_texts(df['new_text'].values)\n",
        "# Vectoriser\n",
        "X = tokenizer.texts_to_sequences(df['new_text'].values)\n",
        "# Padding\n",
        "X = pad_sequences(X)\n",
        "tokenizer_json = tokenizer.to_json()\n",
        "with open ('tokenizerfr.json', 'w', encoding='utf-8') as json_file:\n",
        "    json.dump(tokenizer_json, json_file, ensure_ascii=False)"
      ]
    },
    {
      "cell_type": "code",
      "execution_count": 77,
      "metadata": {
        "colab": {
          "base_uri": "https://localhost:8080/"
        },
        "id": "t_2EmrwsGrY2",
        "outputId": "59689d00-9430-4384-c407-b298d8055b91"
      },
      "outputs": [
        {
          "data": {
            "text/plain": [
              "array([[   0,    0,    0,    0,    0,    0,    0,    0,    0,    0,    0,\n",
              "           0,    0,    0,    0,    0,    0,    0,    0,    0,    0,    0,\n",
              "           0, 2730, 4362,    7,    4, 1233, 4363,   23, 4364,    2,   65,\n",
              "          41,    8,  978,   79,    8, 2054],\n",
              "       [   0,    0,    0,    0,    0,    0,    0,    0,    0,    0,    0,\n",
              "           0,    0,    0,    0,    0,    0,    0,    0,    0,    0,    0,\n",
              "           0,    0,    0,    0,    0,    0,    0,    0,    0,    0,    0,\n",
              "           0,    0,  232,  261,   50,  405],\n",
              "       [   0,    0,    0,    0,    0,    0,    0,    0,    0,    0,    0,\n",
              "           0,    0,    0,    0,    0,    0,    0,    0,    0,    0,    0,\n",
              "           0,    0,    0,    0,    0,    0,    0,    0,    0,  120,  406,\n",
              "         979,   82,   22,   17,  294,   67],\n",
              "       [   0,    0,    0,    0,    0,    0,    0,    0,    0,    0,    0,\n",
              "           0,    0,    0,    0,    0,    0,    0,    0,    0,    0,    0,\n",
              "           0,    0,    0,    0,    0,    0,    0,    0,    0,    0,    0,\n",
              "         331,   93,  121,    6,    3,  181],\n",
              "       [   0,    0,    0,    0,    0,    0,    0,    0,    0,    0,    0,\n",
              "           0,    0,    0,    0,    0,    0,    0,    0,    0,    0,    0,\n",
              "           0,    0,    0,    4,  528,   54, 2731, 4365, 1406, 4366,  119,\n",
              "         288,  332,  296,  333,    1,  566]])"
            ]
          },
          "execution_count": 77,
          "metadata": {},
          "output_type": "execute_result"
        }
      ],
      "source": [
        "X[:5]"
      ]
    },
    {
      "cell_type": "markdown",
      "metadata": {
        "id": "c48OsYa-Qw6G"
      },
      "source": [
        "### <font color='#00d2d3'> Sentiment Analysis "
      ]
    },
    {
      "cell_type": "code",
      "execution_count": 78,
      "metadata": {
        "id": "wjzBVAQg8zjD"
      },
      "outputs": [],
      "source": [
        "from keras.models import Sequential\n",
        "from keras.layers import Dense, Embedding, LSTM, Bidirectional, Dropout"
      ]
    },
    {
      "cell_type": "code",
      "execution_count": 79,
      "metadata": {
        "colab": {
          "base_uri": "https://localhost:8080/"
        },
        "id": "9IkvYDfIQw6G",
        "outputId": "aec98131-9367-4388-91cb-98f9748b445b"
      },
      "outputs": [
        {
          "name": "stdout",
          "output_type": "stream",
          "text": [
            "Model: \"sequential_1\"\n",
            "_________________________________________________________________\n",
            " Layer (type)                Output Shape              Param #   \n",
            "=================================================================\n",
            " embedding_1 (Embedding)     (None, 39, 100)           1167100   \n",
            "                                                                 \n",
            " bidirectional_2 (Bidirecti  (None, 39, 400)           481600    \n",
            " onal)                                                           \n",
            "                                                                 \n",
            " dropout_2 (Dropout)         (None, 39, 400)           0         \n",
            "                                                                 \n",
            " bidirectional_3 (Bidirecti  (None, 400)               961600    \n",
            " onal)                                                           \n",
            "                                                                 \n",
            " dropout_3 (Dropout)         (None, 400)               0         \n",
            "                                                                 \n",
            " dense_1 (Dense)             (None, 1)                 401       \n",
            "                                                                 \n",
            "=================================================================\n",
            "Total params: 2610701 (9.96 MB)\n",
            "Trainable params: 2610701 (9.96 MB)\n",
            "Non-trainable params: 0 (0.00 Byte)\n",
            "_________________________________________________________________\n",
            "None\n"
          ]
        }
      ],
      "source": [
        "# Dimension des vecteurs\n",
        "emb_dim=100\n",
        "model=Sequential()\n",
        "model.add(Embedding(voc_size, emb_dim, input_length=X.shape[1]))\n",
        "model.add(Bidirectional(LSTM(200, return_sequences=True)))\n",
        "model.add(Dropout(0.4))\n",
        "model.add(Bidirectional(LSTM(200)))\n",
        "model.add(Dropout(0.4))\n",
        "model.add(Dense(1,activation='sigmoid'))\n",
        "# Compiler le modèle\n",
        "model.compile(loss='binary_crossentropy',optimizer='adam',metrics=['accuracy'])\n",
        "# Afficher le summary\n",
        "print(model.summary())"
      ]
    },
    {
      "cell_type": "markdown",
      "metadata": {},
      "source": [
        "Separation des donnees "
      ]
    },
    {
      "cell_type": "code",
      "execution_count": 80,
      "metadata": {
        "id": "eimNcPW-Qw6H"
      },
      "outputs": [],
      "source": [
        "# Importer train_test_split\n",
        "from sklearn.model_selection import train_test_split\n",
        "# Labels\n",
        "y = df.label.values\n",
        "# Splitter en train, validation et test\n",
        "X_train, X_test, y_train, y_test = train_test_split(X, y, test_size=0.2, random_state=42)\n",
        "X_val, X_test, y_val, y_test = train_test_split(X_test, y_test, test_size=0.5, random_state=42)\n"
      ]
    },
    {
      "cell_type": "code",
      "execution_count": 81,
      "metadata": {
        "colab": {
          "base_uri": "https://localhost:8080/"
        },
        "id": "CGNvW1jrSvP4",
        "outputId": "32a5dadb-b15e-4fff-ca41-47681a365e02"
      },
      "outputs": [
        {
          "name": "stdout",
          "output_type": "stream",
          "text": [
            "Train set: (4958, 39) (4958,)\n",
            "Validation set: (620, 39) (620,)\n",
            "Test set: (620, 39) (620,)\n"
          ]
        }
      ],
      "source": [
        "# Afficher les dimensions des ensembles\n",
        "print(\"Train set:\", X_train.shape, y_train.shape)\n",
        "print(\"Validation set:\", X_val.shape, y_val.shape)\n",
        "print(\"Test set:\", X_test.shape, y_test.shape)"
      ]
    },
    {
      "cell_type": "markdown",
      "metadata": {},
      "source": [
        "Keras Turner pour trouver les hyperparametre du model"
      ]
    },
    {
      "cell_type": "code",
      "execution_count": 82,
      "metadata": {},
      "outputs": [],
      "source": [
        "import tensorflow as tf\n",
        "from tensorflow import keras"
      ]
    },
    {
      "cell_type": "code",
      "execution_count": 83,
      "metadata": {},
      "outputs": [
        {
          "name": "stderr",
          "output_type": "stream",
          "text": [
            "DEPRECATION: Loading egg at c:\\python311\\lib\\site-packages\\vboxapi-1.0-py3.11.egg is deprecated. pip 23.3 will enforce this behaviour change. A possible replacement is to use pip for package installation..\n",
            "\n",
            "[notice] A new release of pip is available: 23.2.1 -> 23.3.1\n",
            "[notice] To update, run: python.exe -m pip install --upgrade pip\n"
          ]
        }
      ],
      "source": [
        "! pip install -q -U keras-tuner"
      ]
    },
    {
      "cell_type": "code",
      "execution_count": 84,
      "metadata": {},
      "outputs": [],
      "source": [
        "import keras_tuner as kt\n",
        "from keras.models import Sequential\n",
        "from keras.layers import Dense, Embedding, Bidirectional, Dropout\n",
        "from tensorflow.keras.layers import GRU"
      ]
    },
    {
      "cell_type": "code",
      "execution_count": 85,
      "metadata": {},
      "outputs": [],
      "source": [
        "def model_builder(hp):\n",
        "    # Tune the number of units in the first Dense layer\n",
        "    # Choose an optimal value between 32-512\n",
        "    hp_units = hp.Int('units', min_value=32, max_value=512, step=32)\n",
        "    \n",
        "    # Choose an optimal value between 100-256\n",
        "    emb_dim = hp.Int('emb_dim', min_value=100, max_value=256, step=32)\n",
        "    \n",
        "    # Tune the learning rate for the optimizer\n",
        "    # Choose an optimal value from 0.01, 0.001, or 0.0001\n",
        "    hp_learning_rate = hp.Choice('learning_rate', values=[1e-2, 1e-3, 1e-4])\n",
        "    \n",
        "    # Choose an RNN type\n",
        "    model_type = hp.Choice('rnn_type', values=['gru', 'lstm', 'bidirectional_gru', 'bidirectional_lstm'])\n",
        "    \n",
        "    model = Sequential()\n",
        "    \n",
        "    if model_type == 'gru':\n",
        "        model.add(Embedding(voc_size, emb_dim, input_length=X.shape[1]))\n",
        "        model.add(GRU(units=hp_units, return_sequences=True))\n",
        "        model.add(Dropout(0.4))\n",
        "        model.add(GRU(units=hp_units))\n",
        "        model.add(Dropout(0.4))\n",
        "        model.add(Dense(1, activation='sigmoid'))\n",
        "    elif model_type == 'lstm':\n",
        "        model.add(Embedding(voc_size, emb_dim, input_length=X.shape[1]))\n",
        "        model.add(LSTM(units=hp_units, return_sequences=True))\n",
        "        model.add(Dropout(0.4))\n",
        "        model.add(LSTM(units=hp_units))\n",
        "        model.add(Dropout(0.4))\n",
        "        model.add(Dense(1, activation='sigmoid'))\n",
        "    elif model_type == 'bidirectional_gru':\n",
        "        model.add(Embedding(voc_size, emb_dim, input_length=X.shape[1]))\n",
        "        model.add(Bidirectional(GRU(units=hp_units, return_sequences=True)))\n",
        "        model.add(Dropout(0.4))\n",
        "        model.add(Bidirectional(GRU(units=hp_units)))\n",
        "        model.add(Dropout(0.4))\n",
        "        model.add(Dense(1, activation='sigmoid'))\n",
        "    elif model_type == 'bidirectional_lstm':\n",
        "        model.add(Embedding(voc_size, emb_dim, input_length=X.shape[1]))\n",
        "        model.add(Bidirectional(LSTM(units=hp_units, return_sequences=True)))\n",
        "        model.add(Dropout(0.4))\n",
        "        model.add(Bidirectional(LSTM(units=hp_units)))\n",
        "        model.add(Dropout(0.4))\n",
        "        model.add(Dense(1, activation='sigmoid'))\n",
        "    \n",
        "    model.compile(optimizer=tf.keras.optimizers.Adam(learning_rate=hp_learning_rate),\n",
        "                  loss='binary_crossentropy',\n",
        "                  metrics=['accuracy'])\n",
        "    \n",
        "    return model\n"
      ]
    },
    {
      "cell_type": "code",
      "execution_count": 86,
      "metadata": {},
      "outputs": [],
      "source": [
        "from kerastuner.tuners import RandomSearch\n",
        "\n",
        "tuner = RandomSearch(\n",
        "    model_builder,\n",
        "    objective='val_accuracy',\n",
        "    max_trials=5,\n",
        "    executions_per_trial=1,\n",
        "    overwrite=True,  # Nombre total d'essais de modèles\n",
        "    directory='my_dir',  # Répertoire pour enregistrer les résultats du tuner\n",
        "    project_name='intro_to_kt'\n",
        ")\n"
      ]
    },
    {
      "cell_type": "code",
      "execution_count": 87,
      "metadata": {},
      "outputs": [
        {
          "name": "stdout",
          "output_type": "stream",
          "text": [
            "Trial 5 Complete [00h 03m 14s]\n",
            "val_accuracy: 0.7516129016876221\n",
            "\n",
            "Best val_accuracy So Far: 0.7516129016876221\n",
            "Total elapsed time: 00h 34m 19s\n",
            "\n",
            "Le type de modèle optimal est bidirectional_lstm.\n",
            "Le nombre optimal d'unités dans la première couche dense est 128 \n",
            "et le taux d'apprentissage optimal pour l'optimiseur est 0.001. \n",
            "et la dimension d'embedding optimale est 132\n",
            "\n"
          ]
        }
      ],
      "source": [
        "from tensorflow.keras.callbacks import EarlyStopping\n",
        "\n",
        "# Ajout d'un callback d'arrêt précoce\n",
        "early_stopping = EarlyStopping(monitor='val_loss', patience=3, restore_best_weights=True)\n",
        "\n",
        "# Recherche des hyperparamètres\n",
        "tuner.search(X_train, y_train, epochs=5, validation_data=(X_val, y_val), batch_size=64)\n",
        "\n",
        "# Lancer la recherche d'hyperparamètres\n",
        "tuner.search(X_train, y_train, epochs=5, validation_data=(X_val, y_val))\n",
        "\n",
        "# Récupérer les meilleurs hyperparamètres\n",
        "best_hps = tuner.get_best_hyperparameters(num_trials=1)[0]\n",
        "best_model_type = best_hps.get('rnn_type')\n",
        "\n",
        "# Afficher les meilleurs hyperparamètres\n",
        "print(f\"\"\"\n",
        "Le type de modèle optimal est {best_model_type}.\n",
        "Le nombre optimal d'unités dans la première couche dense est {best_hps.get('units')} \n",
        "et le taux d'apprentissage optimal pour l'optimiseur est {best_hps.get('learning_rate')}. \n",
        "et la dimension d'embedding optimale est {best_hps.get('emb_dim')}\n",
        "\"\"\")\n"
      ]
    },
    {
      "cell_type": "code",
      "execution_count": 88,
      "metadata": {},
      "outputs": [
        {
          "name": "stdout",
          "output_type": "stream",
          "text": [
            "Results summary\n",
            "Results in my_dir\\intro_to_kt\n",
            "Showing 10 best trials\n",
            "Objective(name=\"val_accuracy\", direction=\"max\")\n",
            "\n",
            "Trial 4 summary\n",
            "Hyperparameters:\n",
            "units: 128\n",
            "emb_dim: 132\n",
            "learning_rate: 0.001\n",
            "rnn_type: bidirectional_lstm\n",
            "Score: 0.7516129016876221\n",
            "\n",
            "Trial 0 summary\n",
            "Hyperparameters:\n",
            "units: 384\n",
            "emb_dim: 100\n",
            "learning_rate: 0.001\n",
            "rnn_type: bidirectional_lstm\n",
            "Score: 0.7241935729980469\n",
            "\n",
            "Trial 2 summary\n",
            "Hyperparameters:\n",
            "units: 320\n",
            "emb_dim: 164\n",
            "learning_rate: 0.001\n",
            "rnn_type: bidirectional_gru\n",
            "Score: 0.7145161032676697\n",
            "\n",
            "Trial 3 summary\n",
            "Hyperparameters:\n",
            "units: 480\n",
            "emb_dim: 164\n",
            "learning_rate: 0.001\n",
            "rnn_type: bidirectional_gru\n",
            "Score: 0.7112902998924255\n",
            "\n",
            "Trial 1 summary\n",
            "Hyperparameters:\n",
            "units: 160\n",
            "emb_dim: 228\n",
            "learning_rate: 0.01\n",
            "rnn_type: bidirectional_lstm\n",
            "Score: 0.7064515948295593\n"
          ]
        }
      ],
      "source": [
        "tuner.results_summary()"
      ]
    },
    {
      "cell_type": "code",
      "execution_count": 96,
      "metadata": {},
      "outputs": [
        {
          "name": "stdout",
          "output_type": "stream",
          "text": [
            "Epoch 1/5\n",
            "155/155 [==============================] - 32s 173ms/step - loss: 0.6291 - accuracy: 0.6335 - val_loss: 0.5535 - val_accuracy: 0.7242\n",
            "Epoch 2/5\n",
            "155/155 [==============================] - 31s 201ms/step - loss: 0.3815 - accuracy: 0.8354 - val_loss: 0.5706 - val_accuracy: 0.7177\n",
            "Epoch 3/5\n",
            "155/155 [==============================] - 32s 206ms/step - loss: 0.1836 - accuracy: 0.9342 - val_loss: 0.8432 - val_accuracy: 0.7081\n",
            "Epoch 4/5\n",
            "155/155 [==============================] - 32s 203ms/step - loss: 0.1024 - accuracy: 0.9633 - val_loss: 1.0179 - val_accuracy: 0.6984\n",
            "Epoch 5/5\n",
            "155/155 [==============================] - 32s 205ms/step - loss: 0.0562 - accuracy: 0.9845 - val_loss: 1.1568 - val_accuracy: 0.6887\n",
            "Meilleure époque : 0\n"
          ]
        }
      ],
      "source": [
        "# Construire le modèle avec les hyperparamètres optimaux\n",
        "model = tuner.hypermodel.build(best_hps)\n",
        "\n",
        "# Entraîner le modèle sur les données pendant 50 époques\n",
        "history = model.fit(X_train, y_train, epochs=5, validation_data=(X_val, y_val))\n",
        "\n",
        "# Récupérer la précision de validation par époque\n",
        "val_acc_per_epoch = history.history['val_accuracy']\n",
        "\n",
        "# Trouver la meilleure époque basée sur la précision de validation\n",
        "best_epoch = val_acc_per_epoch.index(max(val_acc_per_epoch))\n",
        "print('Meilleure époque : %d' % (best_epoch,))\n"
      ]
    },
    {
      "cell_type": "code",
      "execution_count": 97,
      "metadata": {},
      "outputs": [
        {
          "name": "stdout",
          "output_type": "stream",
          "text": [
            "Epoch 1/5\n",
            "155/155 [==============================] - 33s 175ms/step - loss: 0.6294 - accuracy: 0.6440\n",
            "Epoch 2/5\n",
            "155/155 [==============================] - 30s 193ms/step - loss: 0.3840 - accuracy: 0.8403\n",
            "Epoch 3/5\n",
            "155/155 [==============================] - 30s 193ms/step - loss: 0.1885 - accuracy: 0.9361\n",
            "Epoch 4/5\n",
            "155/155 [==============================] - 29s 187ms/step - loss: 0.0902 - accuracy: 0.9712\n",
            "Epoch 5/5\n",
            "155/155 [==============================] - 31s 198ms/step - loss: 0.0571 - accuracy: 0.9820\n"
          ]
        },
        {
          "data": {
            "text/plain": [
              "<keras.src.callbacks.History at 0x1c3a314e2d0>"
            ]
          },
          "execution_count": 97,
          "metadata": {},
          "output_type": "execute_result"
        }
      ],
      "source": [
        "# Construire à nouveau le modèle avec les meilleurs hyperparamètres\n",
        "hypermodel = tuner.hypermodel.build(best_hps)\n",
        "\n",
        "# Réentraîner le modèle sur toutes les données jusqu'à la meilleure époque identifiée (4 dans cet exemple)\n",
        "hypermodel.fit(X_train, y_train, epochs=5)\n"
      ]
    },
    {
      "cell_type": "code",
      "execution_count": 98,
      "metadata": {},
      "outputs": [
        {
          "name": "stdout",
          "output_type": "stream",
          "text": [
            "20/20 [==============================] - 2s 53ms/step - loss: 1.1624 - accuracy: 0.7000\n",
            "Loss sur l'ensemble de validation : 1.1624436378479004\n",
            "Précision sur l'ensemble de validation : 0.699999988079071\n"
          ]
        }
      ],
      "source": [
        "# Évaluer les performances du modèle sur l'ensemble de validation\n",
        "eval_result = hypermodel.evaluate(X_val, y_val)\n",
        "\n",
        "# Afficher les résultats\n",
        "print(f\"Loss sur l'ensemble de validation : {eval_result[0]}\")\n",
        "print(f\"Précision sur l'ensemble de validation : {eval_result[1]}\")\n"
      ]
    },
    {
      "cell_type": "code",
      "execution_count": 104,
      "metadata": {},
      "outputs": [],
      "source": [
        "# Enregistrer le modèle  \n",
        "hypermodel.save('Sentiment_Analysis_fr.h5')\n"
      ]
    },
    {
      "cell_type": "markdown",
      "metadata": {
        "id": "arowvwnvHjj6"
      },
      "source": [
        "###### <font color='#1dd1a1'> Test le modèle"
      ]
    },
    {
      "cell_type": "code",
      "execution_count": 100,
      "metadata": {
        "id": "_msI2gPTHxAJ"
      },
      "outputs": [
        {
          "name": "stdout",
          "output_type": "stream",
          "text": [
            "['lol merci je ne suis quune fille moyenne le maquillage lclairage et le vtements mignons font vraiment leffet glamour', 'haha vous te fou julene je taime mais tu e fou', 'regarde lautre fille de boleyn cest une soire froide et pluvieuse et jaime', 'lobtention du diplme de demain x ahhh je ne sais pa comment je devrais en ressentir', 'ahhhhhhhhhhh il ne laissera pa regarder le reste']\n"
          ]
        }
      ],
      "source": [
        "# x_text text non vectorisées\n",
        "tweet = tokenizer.sequences_to_texts(X_test[1:6])\n",
        "# x_text text vectorisées\n",
        "twt = X_test[1:6]\n",
        "print(tweet)"
      ]
    },
    {
      "cell_type": "code",
      "execution_count": 101,
      "metadata": {
        "id": "UkqwJPlMCYWc"
      },
      "outputs": [
        {
          "name": "stdout",
          "output_type": "stream",
          "text": [
            "1/1 [==============================] - 1s 1s/step\n"
          ]
        }
      ],
      "source": [
        "# Prédictions les labels\n",
        "y_pred=model.predict(twt)\n",
        "# Arrondir les valeus\n",
        "y_pred = np.round(y_pred)"
      ]
    },
    {
      "cell_type": "code",
      "execution_count": 103,
      "metadata": {
        "id": "sa9Akx-BQw6I"
      },
      "outputs": [
        {
          "name": "stdout",
          "output_type": "stream",
          "text": [
            "lol merci je ne suis quune fille moyenne le maquillage lclairage et le vtements mignons font vraiment leffet glamour --------- ['Positive sentiment']\n",
            "haha vous te fou julene je taime mais tu e fou --------- ['Positive sentiment']\n",
            "regarde lautre fille de boleyn cest une soire froide et pluvieuse et jaime --------- ['Positive sentiment']\n",
            "lobtention du diplme de demain x ahhh je ne sais pa comment je devrais en ressentir --------- ['Negative sentiment']\n",
            "ahhhhhhhhhhh il ne laissera pa regarder le reste --------- ['Negative sentiment']\n"
          ]
        },
        {
          "name": "stderr",
          "output_type": "stream",
          "text": [
            "C:\\Users\\HP\\AppData\\Local\\Temp\\ipykernel_19316\\3629067660.py:3: DeprecationWarning: Conversion of an array with ndim > 0 to a scalar is deprecated, and will error in future. Ensure you extract a single element from your array before performing this operation. (Deprecated NumPy 1.25.)\n",
            "  print(tweet[i], \"---------\", [\"Negative sentiment\" if int(y_pred[i]) == 0 else \"Positive sentiment\"])\n"
          ]
        }
      ],
      "source": [
        "# Afficher les sentiments prédits\n",
        "for i in range(0, 5):\n",
        "    print(tweet[i], \"---------\", [\"Negative sentiment\" if int(y_pred[i]) == 0 else \"Positive sentiment\"])"
      ]
    }
  ],
  "metadata": {
    "accelerator": "GPU",
    "colab": {
      "provenance": []
    },
    "kernelspec": {
      "display_name": "Python 3",
      "name": "python3"
    },
    "language_info": {
      "codemirror_mode": {
        "name": "ipython",
        "version": 3
      },
      "file_extension": ".py",
      "mimetype": "text/x-python",
      "name": "python",
      "nbconvert_exporter": "python",
      "pygments_lexer": "ipython3",
      "version": "3.11.4"
    }
  },
  "nbformat": 4,
  "nbformat_minor": 0
}
